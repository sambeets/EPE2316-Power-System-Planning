{
 "cells": [
  {
   "cell_type": "markdown",
   "metadata": {},
   "source": [
    "# DigiLab Assignment 1 \n",
    "Author: Emil G. Melfald, University of South-Eastern Norway <br><br>\n",
    "This is the first out of two assignments related to the Digital Labs in EPE2316 Power System Analysis. The main focus in this assignment is running power flow calculations. The systems you should solve will be slightly more complicated than what is shown in DigiLab 3. "
   ]
  },
  {
   "cell_type": "markdown",
   "metadata": {},
   "source": [
    "# The assignment system \n",
    "The following image shows the power system you are to study during the assignment. All variables marked as ? is to be determined by solving the power flow equation. This system builds from DigiLab 3 with two additional lines and on additional bus. In this case, this bus is a PV bus representing a synchronous generator producing 2.0 MW of power. \n",
    "\n",
    "![Image of the power system under study](Assignment_1_Power_System_Drawing.png)\n"
   ]
  },
  {
   "cell_type": "markdown",
   "metadata": {},
   "source": [
    "## Task 1: Create and simulate in PyPSA\n",
    "### Task 1.1 - Create the grid \n",
    "Use the Python module PyPSA to create the network object with all the buses, lines, generators, and loads required according to the figure above. \n",
    "\n",
    "### Task 1.2 - Simulate the system \n",
    "Do a power flow of the system. Print out the following for **all buses**: \n",
    "- Injected active power \n",
    "- Injected reactive power \n",
    "- Voltage angle in degrees \n",
    "- Voltage magnitude in pu "
   ]
  },
  {
   "cell_type": "code",
   "execution_count": null,
   "metadata": {},
   "outputs": [],
   "source": [
    "import pypsa\n",
    "import warnings\n",
    "warnings.simplefilter(action='ignore', category=FutureWarning)\n",
    "\n",
    "# Insert your python code here \n",
    "\n"
   ]
  },
  {
   "cell_type": "markdown",
   "metadata": {},
   "source": [
    "### End of task 1 \n",
    "--- "
   ]
  },
  {
   "cell_type": "markdown",
   "metadata": {},
   "source": [
    "## Task 2: Set up and solve the system of power flow equations \n",
    "### Task 2.1 - Create a power flow error function \n",
    "As was shown in DigiLab 3, a function where the variable vector $y$ was an input, and the power flow error vector $[\\Delta P, \\Delta Q]$ was returned. Extend the example in DigiLab3 to the system shown above. **Note:** the $Y_{bus}$ matrix is given in the *DigiLab_supplementary_file.py*. \n",
    "\n",
    "### Task 2.2 - Solve the power flow error equations \n",
    "Use scipy.optimize.root to solve the power flow error equations to obtain the correct voltage and voltage angles ov the system. Proceed by calculating the injected active and reactive power for all buses. Note that the solution should be exactly the same as obtained from PyPSA. Print out the following for **all buses**: \n",
    "- Injected active power \n",
    "- Injected reactive power \n",
    "- Voltage angle in degrees \n",
    "- Voltage magnitude in pu "
   ]
  },
  {
   "cell_type": "code",
   "execution_count": null,
   "metadata": {},
   "outputs": [],
   "source": [
    "import numpy as np \n",
    "from scipy.optimize import root \n",
    "\n",
    "# Insert your python code here\n"
   ]
  },
  {
   "cell_type": "markdown",
   "metadata": {},
   "source": [
    "### End of Task 2\n",
    "## End of Assignment 1\n",
    "---"
   ]
  }
 ],
 "metadata": {
  "kernelspec": {
   "display_name": "PSA-env",
   "language": "python",
   "name": "python3"
  },
  "language_info": {
   "name": "python",
   "version": "3.10.12"
  },
  "orig_nbformat": 4
 },
 "nbformat": 4,
 "nbformat_minor": 2
}
