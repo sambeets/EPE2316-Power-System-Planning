{
 "cells": [
  {
   "cell_type": "markdown",
   "metadata": {},
   "source": [
    "# DigiLab Assignment 2\n",
    "Author: Emil G. Melfald, University of South-Eastern Norway <br><br>\n",
    "This is the second out of two assignments related to the Digital Labs in EPE2316 Power System Analysis. The main focus in this assignment is based on the three analysis methods we have investigated so far, namely: \n",
    "- Unit Commitment (UC) \n",
    "- Economic Dispatch (ED) \n",
    "- Security Constrained Optimal Power Flow (OPF)\n",
    " \n",
    "The systems you should solve will be slightly more complicated than what is shown in DigiLab 4, 5, and 6. "
   ]
  },
  {
   "cell_type": "markdown",
   "metadata": {},
   "source": [
    "# The assignment system \n",
    "The following image shows the power system you are to study during the assignment. \n",
    "\n",
    "![Image of the power system under study](Assignment_2_Power_System_Drawing.png)\n",
    "\n",
    "Additional data about the components are as follows: \n",
    "\n",
    "#### Generators: \n",
    "| Name | P nom [MW] | p min [pu] | V set nominal [pu] | marginal cost | ramp rate [pu] | start-up cost |\n",
    "| ---- | ---- | ---- | ---- | ---- | ---- | ---- |\n",
    "| G1 | 200 | 0.01 | 1.02 | 50 | 1.0 | 500 |\n",
    "| G2 | 300 | 0.8 | 1.02 | 20 | 0.3 | 500 | \n",
    "| G3 | 100 | 0.6 | 1.02 | 30 | 0.5 | 500 |\n",
    "\n",
    "#### Lines: \n",
    "| Name | Length [km] | r [$\\Omega$/km] | x [$\\Omega$/km] | I max [A] | S nom [MVA] |\n",
    "| ---- | ---- | ---- | ---- | ---- | ---- |\n",
    "| L12 | 5 | 0.1 | 0.4 | 1000 | 228.6 | \n",
    "| L23 | 5 | 0.1 | 0.4 | 1000 | 228.6 |\n",
    "| L34 | 10 | 0.2 | 0.4 | 700 | 160.0 | \n",
    "| L45 | 30 | 0.3 | 0.4 | 500 | 114.3 |\n",
    "| L56 | 5 | 0.1 | 0.4 | 1000 | 228.6 |\n",
    "| L61 | 5 | 0.1 | 0.4 | 1000 | 228.6 |\n"
   ]
  },
  {
   "cell_type": "markdown",
   "metadata": {},
   "source": [
    "## Task 1: Create and simulate in PyPSA\n",
    "### Task 1.1 - Create the grid \n",
    "Use the Python module PyPSA to create the network object with all the buses, lines, generators, and loads required according to the figure and tables above. \n"
   ]
  },
  {
   "cell_type": "code",
   "execution_count": 2,
   "metadata": {},
   "outputs": [],
   "source": [
    "import pypsa\n",
    "import warnings\n",
    "warnings.simplefilter(action='ignore', category=FutureWarning)\n",
    "import numpy as np\n",
    "import pandas as pd \n",
    "import matplotlib.pyplot as plt\n",
    "from scipy.optimize import root, minimize, NonlinearConstraint\n",
    "\n",
    "V_base = 132 # kV \n",
    "S_base = 100 # MW\n",
    "I_base = S_base*1e6/(np.sqrt(3)*V_base*1e3)\n",
    "\n",
    "load_data = pd.read_csv(\"load_data.csv\", index_col=\"Hour\")\n",
    "P_load_1_timeseries = load_data[\"P L1 [MW]\"].values\n",
    "P_load_2_timeseries = load_data[\"P L2 [MW]\"].values\n",
    "P_load_3_timeseries = load_data[\"P L3 [MW]\"].values\n",
    "\n",
    "Q_load_1_timeseries = load_data[\"Q L1 [Mvar]\"].values\n",
    "Q_load_2_timeseries = load_data[\"Q L2 [Mvar]\"].values\n",
    "Q_load_3_timeseries = load_data[\"Q L3 [Mvar]\"].values\n",
    "\n",
    "network = pypsa.Network(snapshots=range(len(P_load_1_timeseries))) "
   ]
  },
  {
   "cell_type": "code",
   "execution_count": 3,
   "metadata": {},
   "outputs": [],
   "source": [
    "# Create the network here\n",
    "\n"
   ]
  },
  {
   "cell_type": "markdown",
   "metadata": {},
   "source": [
    "### Task 1.2 - Simulate the system \n",
    "Do a power flow of the system. Make three different plots, showing the following:\n",
    "- Voltages at all buses over the timeseries\n",
    "- Active power injection in all buses during the timeseries\n",
    "- Reactive power injection in all buses during the timeseries"
   ]
  },
  {
   "cell_type": "code",
   "execution_count": 4,
   "metadata": {},
   "outputs": [],
   "source": [
    "# Do the power flow here\n",
    "\n"
   ]
  },
  {
   "cell_type": "code",
   "execution_count": 5,
   "metadata": {},
   "outputs": [],
   "source": [
    "# Plot the voltage magnitudes here \n"
   ]
  },
  {
   "cell_type": "code",
   "execution_count": 6,
   "metadata": {},
   "outputs": [],
   "source": [
    "# Plot the active power injections here\n"
   ]
  },
  {
   "cell_type": "code",
   "execution_count": 7,
   "metadata": {},
   "outputs": [],
   "source": [
    "# Plot the reactive power injections here\n"
   ]
  },
  {
   "cell_type": "markdown",
   "metadata": {},
   "source": [
    "### Task 1.3 - Optimize the system\n",
    "Use PyPSA to do Unit Commitment for this system in the given timeframe. Answer this question by providing the following in a plot: \n",
    "- Total active load of the system\n",
    "- The total spinning capacity \n",
    "- The minimum possible dispatch given the commited units"
   ]
  },
  {
   "cell_type": "code",
   "execution_count": 9,
   "metadata": {},
   "outputs": [],
   "source": [
    "# Optimize the network here \n"
   ]
  },
  {
   "cell_type": "code",
   "execution_count": 10,
   "metadata": {},
   "outputs": [],
   "source": [
    "# Obtain the correct values and plot the data here \n"
   ]
  },
  {
   "cell_type": "code",
   "execution_count": null,
   "metadata": {},
   "outputs": [],
   "source": []
  },
  {
   "cell_type": "markdown",
   "metadata": {},
   "source": [
    "### End of task 1 \n",
    "--- "
   ]
  },
  {
   "cell_type": "markdown",
   "metadata": {},
   "source": [
    "## Task 2: Perform OPF\n",
    "\n",
    "### Task 2.1: Define the objective function and constraints \n",
    "You are given a working power flow error calculation function. Your job is to define the objective function for minimizing power losses while respecting the system constraints. You should also implement the following constraints: \n",
    "\n",
    "**All buses**: $$ V_{min} \\le V_i \\le V_{max} $$\n",
    "\n",
    "**All generators**: $$ Q_{min} \\le Q_i \\le Q_{max} $$ \n",
    "\n",
    "**All lines**: $$ 0 \\le |I^{ij}| \\le I_{max}^{ij} $$\n",
    "\n",
    "The decision variables are as follows: \n",
    "\n",
    "$$ u = [V_1, V_3, V_5, P_3, P_5] $$\n",
    "\n",
    "Assume the following: \n",
    "\n",
    "$$ V_{min} = 0.95 $$\n",
    "\n",
    "$$ V_{max} = 1.05 $$\n",
    "\n",
    "$$ P_{min}=0 $$ \n",
    "\n",
    "$$ P_{max}=P_{nom} $$ \n",
    "\n",
    "$$ Q_{min}=-0.3 \\cdot P_{nom} $$\n",
    "\n",
    "$$ Q_{max}=0.4 \\cdot P_{nom} $$\n",
    "\n",
    "HINT: The constraint vector may be defined in the following order: \n",
    "$$ cons = [V_2, V_4, V_6, P_1, Q_1, Q_3, Q_5, I_{12}, I_{23}, I_{34}, I_{45}, I_{56}, I_{61}] $$"
   ]
  },
  {
   "cell_type": "code",
   "execution_count": 15,
   "metadata": {},
   "outputs": [],
   "source": [
    "from numeric_data import Y_bus, Y_lines\n",
    "\n",
    "# Assumes the standard convention for y: voltage angles first, then voltages\n",
    "# y = [th2, th3, th4, th5, th6, V2, V4, V6]\n",
    "u0 = np.array([1.02, 1.02, 1.02, 300, 100])\n",
    "th_vals = np.array([0, 0, 0, 0, 0, 0], dtype=float)\n",
    "V_vals = np.array([1.02, 1.0, 1.02, 1.0, 1.02, 1.0])\n",
    "P_vals = np.array([0.0, -100, 300, -120, 100, -50])/S_base \n",
    "Q_vals = np.array([0.0, -50, 0.0, -60, 0.0, -25])/S_base"
   ]
  },
  {
   "cell_type": "markdown",
   "metadata": {},
   "source": [
    "#### Some helper functions"
   ]
  },
  {
   "cell_type": "code",
   "execution_count": 16,
   "metadata": {},
   "outputs": [],
   "source": [
    "\n",
    "def get_power_flow(th_vec, V_vec): \n",
    "    V_complex = V_vec*(np.cos(th_vec) + 1j*np.sin(th_vec))\n",
    "    I_inj = Y_bus @ V_complex \n",
    "    S_inj = V_complex * I_inj.conj()\n",
    "    P_res = np.real(S_inj)\n",
    "    Q_res = np.imag(S_inj) \n",
    "    return P_res, Q_res\n",
    "\n",
    "def power_flow_error(y, th_vals, V_vals, P_vals, Q_vals):\n",
    "    th2, th3, th4, th5, th6, V2, V4, V6 = y \n",
    "    th_vec = th_vals.copy()\n",
    "    V_vec = V_vals.copy()\n",
    "    th_vec[1:] = np.array([th2, th3, th4, th5, th6]) \n",
    "    V_vec[1] = V2 \n",
    "    V_vec[3] = V4 \n",
    "    V_vec[5] = V6\n",
    "    P_res, Q_res = get_power_flow(th_vec, V_vec)\n",
    "\n",
    "    pf_error1 = P_res[1] - P_vals[1] \n",
    "    pf_error2 = P_res[2] - P_vals[2] \n",
    "    pf_error3 = P_res[3] - P_vals[3] \n",
    "    pf_error4 = P_res[4] - P_vals[4] \n",
    "    pf_error5 = P_res[5] - P_vals[5] \n",
    "    \n",
    "    pf_error6 = Q_res[1] - Q_vals[1] \n",
    "    pf_error7 = Q_res[3] - Q_vals[3] \n",
    "    pf_error8 = Q_res[5] - Q_vals[5] \n",
    "    return np.array([pf_error1, pf_error2, pf_error3, pf_error4, pf_error5, pf_error6, pf_error7, pf_error8])\n",
    "\n",
    "def get_pf_sol(th_init, V_init, P_init, Q_init): \n",
    "    \"\"\"NOTE: This returns all powers in pu. \"\"\"\n",
    "    th_vals = th_init.copy()\n",
    "    V_vals = V_init.copy()\n",
    "    P_vals = P_init.copy()\n",
    "    Q_vals = Q_init.copy()\n",
    "\n",
    "    x0 = np.array([0, 0, 0, 0, 0, 1, 1, 1], dtype=float)\n",
    "    pf_sol = root(power_flow_error, x0=x0, args=(th_vals, V_vals, P_vals, Q_vals))\n",
    "    th_vals[1:] = pf_sol.x[:5]\n",
    "    V_vals[1]  = pf_sol.x[5]\n",
    "    V_vals[3]  = pf_sol.x[6]\n",
    "    V_vals[5]  = pf_sol.x[7]\n",
    "    P_res, Q_res = get_power_flow(th_vals, V_vals) \n",
    "    return th_vals, V_vals, P_res, Q_res\n",
    "\n",
    "def get_I_mat(V_vec, Y_lines):         \n",
    "    V_mat = np.zeros((len(V_vec), len(V_vec)), dtype=np.complex64)\n",
    "    for idx, V in enumerate(V_vec):\n",
    "        V_mat[idx] = -V_vec\n",
    "        V_mat[idx] += V\n",
    "        V_mat[idx, idx] = V   \n",
    "    I_mat = V_mat * Y_lines\n",
    "    return I_mat "
   ]
  },
  {
   "cell_type": "code",
   "execution_count": 17,
   "metadata": {},
   "outputs": [],
   "source": [
    "def objective_function(u): \n",
    "    # Insert your code here \n",
    "    # HINT 1: When defining the P_vals remember that \n",
    "    # the function \"get_pf_sol\" needs pu values, but u gives MW values. \n",
    "    # HINT 2: Multiply the return by S_base for increased numerical stability\n",
    "    return \n",
    "\n",
    "def opf_constraints(u): \n",
    "    # Insert your code here\n",
    "    # HINT: When defining the P_vals remember that \n",
    "    # the function \"get_pf_sol\" needs pu values, but u gives MW values. \n",
    "    return"
   ]
  },
  {
   "cell_type": "code",
   "execution_count": null,
   "metadata": {},
   "outputs": [],
   "source": [
    "# NOTE: All power constraints and bounds are in MW or Mvar, not pu.\n",
    "# Also, current constraints are in Ampere, and voltages are in pu. \n",
    "\n",
    "const_min = [] # Insert values here\n",
    "const_max = [] # Insert values here \n",
    "bounds = []  # Insert values here\n",
    "const = NonlinearConstraint(opf_constraints, const_min, const_max)"
   ]
  },
  {
   "cell_type": "markdown",
   "metadata": {},
   "source": [
    "### Task 2.2: Perform power flow and OPF \n",
    "\n",
    "Print out the resulting power flow solution **before and after** you have optimized $u$. The resulting power flow should have the following values. \n",
    "\n",
    "**Result before optimization**: \n",
    "\n",
    "P: [-126.59301191, -99.99999993, 300.00000034, -119.99999967, 99.99999963, -50.00000016] MW <br>\n",
    "Q: [90.46918336, -49.99999898, 35.66519845, -59.99999983, 18.7217287, -25.00000125] <br>\n",
    "V: [1.02, 1.01560636, 1.02, 0.99853285, 1.02, 1.01785734] pu <br>\n",
    "$\\theta$: [0.0, 0.01191633, 0.03352941, 0.01429365, 0.01405081, 0.00460687]\n",
    "\n",
    "**Result from OPF**: \n",
    "\n",
    "P: [76.20147816, -99.99999995, 154.15605347, -119.99999993, 41.46298364, -50.00000027] MW <br>\n",
    "Q: [38.30564817, -49.99999965, 78.04663076, -59.99999928, 22.46833393, -25.00000134] Mvar <br>\n",
    "V: [1.04932527, 1.04553425, 1.05, 1.02835924, 1.04850317, 1.04685506] pu <br>\n",
    "$\\theta$: [0.0, -0.00371938, 0.00171241, -0.01312223, -0.0019218, -0.00324718] rad <br>\n"
   ]
  },
  {
   "cell_type": "code",
   "execution_count": 19,
   "metadata": {},
   "outputs": [
    {
     "name": "stdout",
     "output_type": "stream",
     "text": [
      "[-126.59301191  -99.99999993  300.00000034 -119.99999967   99.99999963\n",
      "  -50.00000016]\n",
      "[ 90.46918336 -49.99999898  35.66519845 -59.99999983  18.7217287\n",
      " -25.00000125]\n",
      "[1.02       1.01560636 1.02       0.99853285 1.02       1.01785734]\n",
      "[0.         0.01191633 0.03352941 0.01429365 0.01405081 0.00460687]\n"
     ]
    }
   ],
   "source": [
    "# Do the normal power flow here:\n"
   ]
  },
  {
   "cell_type": "code",
   "execution_count": 12,
   "metadata": {},
   "outputs": [],
   "source": [
    "# Do the OPF here: \n"
   ]
  },
  {
   "cell_type": "markdown",
   "metadata": {},
   "source": [
    "### Task 2.3: Compare grid losses\n",
    "What is the difference in grid losses between doing the normal power flow and doing the OPF?"
   ]
  },
  {
   "cell_type": "markdown",
   "metadata": {},
   "source": [
    "#### Answer task 2.3 in this markdown cell"
   ]
  },
  {
   "cell_type": "markdown",
   "metadata": {},
   "source": [
    "### End of Task 2\n",
    "\n",
    "## End of Assignment 2\n",
    "---"
   ]
  }
 ],
 "metadata": {
  "kernelspec": {
   "display_name": "PSA-env",
   "language": "python",
   "name": "python3"
  },
  "language_info": {
   "codemirror_mode": {
    "name": "ipython",
    "version": 3
   },
   "file_extension": ".py",
   "mimetype": "text/x-python",
   "name": "python",
   "nbconvert_exporter": "python",
   "pygments_lexer": "ipython3",
   "version": "3.10.12"
  },
  "orig_nbformat": 4
 },
 "nbformat": 4,
 "nbformat_minor": 2
}
