{
 "cells": [
  {
   "cell_type": "markdown",
   "source": [
    "# Single Machine Infinite Bus (SMIB)\n",
    "#### Khaled Aleikish\n",
    "#### University of South-Eastern Norway\n",
    "#### Porsgrunn, April 2023"
   ],
   "metadata": {
    "collapsed": false
   }
  },
  {
   "cell_type": "markdown",
   "source": [
    "## Preliminaries\n",
    "### Packages"
   ],
   "metadata": {
    "collapsed": false
   }
  },
  {
   "cell_type": "code",
   "source": [
    "import math\n",
    "import cmath\n",
    "import numpy as np\n",
    "from scipy import linalg"
   ],
   "metadata": {
    "collapsed": false,
    "ExecuteTime": {
     "end_time": "2024-07-17T12:51:50.723673Z",
     "start_time": "2024-07-17T12:51:50.710674Z"
    }
   },
   "outputs": [],
   "execution_count": 41
  },
  {
   "cell_type": "markdown",
   "source": [
    "#### Utility functions"
   ],
   "metadata": {
    "collapsed": false
   }
  },
  {
   "cell_type": "code",
   "source": [
    "def cis(x):\n",
    "    return complex(math.cos(x), math.sin(x))\n",
    "\n",
    "def PrintPolar(txt, x, f1, f2):\n",
    "    return print(txt+f\" = {abs(x):.{f1}f}∠{cmath.phase(x)*180/cmath.pi:.{f2}f}°\")\n",
    "\n",
    "\n",
    "# function ∠(x)\n",
    "#    cis(deg2rad(x))\n",
    "#end"
   ],
   "metadata": {
    "collapsed": false,
    "ExecuteTime": {
     "end_time": "2024-07-17T12:51:50.755665Z",
     "start_time": "2024-07-17T12:51:50.750665Z"
    }
   },
   "outputs": [],
   "execution_count": 42
  },
  {
   "metadata": {},
   "cell_type": "markdown",
   "source": "# TET4180 SMIB"
  },
  {
   "metadata": {},
   "cell_type": "markdown",
   "source": "![TET4180 SMIB](TET4180_SMIB.png)"
  },
  {
   "cell_type": "markdown",
   "source": [
    "## System Parameters"
   ],
   "metadata": {
    "collapsed": false
   }
  },
  {
   "cell_type": "markdown",
   "source": [
    "#### Network parameters"
   ],
   "metadata": {
    "collapsed": false
   }
  },
  {
   "cell_type": "code",
   "source": [
    "fn = 50 # Nominal frequency, Hz\n",
    "wn = 2*math.pi*fn # Nominal frequency, rad/s\n",
    "IB_V = 220 # Infinite busbar voltage, kV"
   ],
   "metadata": {
    "collapsed": false,
    "ExecuteTime": {
     "end_time": "2024-07-17T12:51:50.770673Z",
     "start_time": "2024-07-17T12:51:50.756666Z"
    }
   },
   "outputs": [],
   "execution_count": 43
  },
  {
   "cell_type": "markdown",
   "source": [
    "#### Generator parameters"
   ],
   "metadata": {
    "collapsed": false
   }
  },
  {
   "cell_type": "code",
   "source": [
    "SgN = 50 # Rated apparent power, MVA\n",
    "UgN = 10 # Rated voltage, kV\n",
    "\n",
    "Xd = complex(0, 1.05) # d-axis synchronous reactance, pu\n",
    "Xq = complex(0, 0.66) # q-axis synchronous reactance, pu\n",
    "\n",
    "Xd_prime = complex(0, 0.328) # d-axis transient reactance, pu\n",
    "# Xq_prime = ? # q-axis transient reactance, pu\n",
    "\n",
    "Xd_double_prime = complex(0, 0.254) # d-axis subtransient reactance, pu\n",
    "Xq_double_prime = complex(0, 0.273) # q-axis subtransient reactance, pu\n",
    "\n",
    "Tdo_prime = 2.49 # Open-circuit d-axis transient time constants, s\n",
    "# Tq0_prime = ? # Open-circuit q-axis transient time constants, s\n",
    "\n",
    "Tdo_double_prime = 0.06 # Open-circuit d-axis subtransient time constant, s\n",
    "Tqo_double_prime = 0.15 # Open-circuit q-axis subtransient time constant, s\n",
    "\n",
    "Td_prime = Tdo_prime * (Xd_prime/Xd) # Short-circuit d-axis transient time constant, s\n",
    "# Tq_prime = Tqo_prime * (Xq_prime/Xq) # Short-circuit q-axis transient time constant, s\n",
    "\n",
    "Td_double_prime = Tdo_double_prime * (Xd_double_prime/Xd_prime) # Short-circuit d-axis subtransient time constant, s\n",
    "# Tq_double_prime = Tqo_double_prime * (Xq_double_prime/Xq_prime) # Short-circuit q-axis subtransient time constant, s\n",
    "\n",
    "Ra = 0 # Armature resistance, pu\n",
    "H = 3.1 # Inertia constant, s or (MWs/MVA)\n",
    "Xl = complex(0, 0.1) # Armature leakage reactance, pu\n",
    "\n",
    "# Parameters are passed to functions in a list to avoid problems associated with global variables.\n",
    "genPar = [Xd, Xq, Xd_prime, Xd_double_prime, Xq_double_prime, Tdo_prime, Tdo_double_prime, Tqo_double_prime, Td_prime, Td_double_prime]\n"
   ],
   "metadata": {
    "collapsed": false,
    "ExecuteTime": {
     "end_time": "2024-07-17T12:51:50.785688Z",
     "start_time": "2024-07-17T12:51:50.771675Z"
    }
   },
   "outputs": [],
   "execution_count": 44
  },
  {
   "cell_type": "markdown",
   "source": [
    "#### Transformer parameters"
   ],
   "metadata": {
    "collapsed": false
   }
  },
  {
   "cell_type": "code",
   "source": [
    "Xt = complex(0, 0.1) # Transformer reactance, pu\n",
    "\n",
    "# StN = 50 # Rated apparent power, MVA\n",
    "# UtN = 10/245 # Rated voltage, kV"
   ],
   "metadata": {
    "collapsed": false,
    "ExecuteTime": {
     "end_time": "2024-07-17T12:51:50.801219Z",
     "start_time": "2024-07-17T12:51:50.786690Z"
    }
   },
   "outputs": [],
   "execution_count": 45
  },
  {
   "cell_type": "markdown",
   "source": [
    "#### Local load"
   ],
   "metadata": {
    "collapsed": false
   }
  },
  {
   "cell_type": "code",
   "source": [
    "# Z_LL = float('inf') # Local load, Ohm\n",
    "Z_LL = complex(2000,0) # Local load, Ohm"
   ],
   "metadata": {
    "collapsed": false,
    "ExecuteTime": {
     "end_time": "2024-07-17T12:51:50.816219Z",
     "start_time": "2024-07-17T12:51:50.802221Z"
    }
   },
   "outputs": [],
   "execution_count": 46
  },
  {
   "cell_type": "markdown",
   "source": [
    "#### Line parameters\n",
    "- Line resistance is neglected."
   ],
   "metadata": {
    "collapsed": false
   }
  },
  {
   "cell_type": "code",
   "source": [
    "UN = 245 # The line voltage, kV\n",
    "line_length = 250 # km\n",
    "x = complex(0,0.4) # Ohm/km"
   ],
   "metadata": {
    "collapsed": false,
    "ExecuteTime": {
     "end_time": "2024-07-17T12:51:50.831499Z",
     "start_time": "2024-07-17T12:51:50.817222Z"
    }
   },
   "outputs": [],
   "execution_count": 47
  },
  {
   "cell_type": "markdown",
   "source": [
    "#### Base quantities"
   ],
   "metadata": {
    "collapsed": false
   }
  },
  {
   "cell_type": "code",
   "source": [
    "S_base = SgN # Rated apparent power, MVA\n",
    "V_base = UN # Base voltage, kV\n",
    "Z_base = (V_base**2)/S_base # Base impedance, Ohm\n",
    "I_base = V_base/(Z_base*cmath.sqrt(3))\n",
    "\n",
    "print(f\"Base impedance, Z_base = {Z_base:.1f} [Ohm]\")\n",
    "# print(f\"Base current, I_base = {I_base:.1f} [Ohm]\")"
   ],
   "metadata": {
    "collapsed": false,
    "ExecuteTime": {
     "end_time": "2024-07-17T12:51:50.846681Z",
     "start_time": "2024-07-17T12:51:50.832492Z"
    }
   },
   "outputs": [
    {
     "name": "stdout",
     "output_type": "stream",
     "text": [
      "Base impedance, Z_base = 1200.5 [Ohm]\n"
     ]
    }
   ],
   "execution_count": 48
  },
  {
   "cell_type": "markdown",
   "source": [
    "#### Initial operational parameters"
   ],
   "metadata": {
    "collapsed": false
   }
  },
  {
   "cell_type": "code",
   "source": [
    "P = 15 # MW\n",
    "PF = 0.9 # Power factor lagging"
   ],
   "metadata": {
    "collapsed": false,
    "ExecuteTime": {
     "end_time": "2024-07-17T12:51:50.862704Z",
     "start_time": "2024-07-17T12:51:50.848698Z"
    }
   },
   "outputs": [],
   "execution_count": 49
  },
  {
   "cell_type": "markdown",
   "source": [
    "## Initial power flow\n",
    "- The inﬁnite bus voltage is set as the reference.\n",
    "- The generator is over-excited at a known power factor PF = cos(φ)."
   ],
   "metadata": {
    "collapsed": false
   }
  },
  {
   "cell_type": "code",
   "source": [
    "IB_V_pu  = IB_V/V_base\n",
    "PrintPolar(\"IB voltage, Vs\", IB_V_pu, 3, 0)\n",
    "\n",
    "X_l = (x*line_length)/Z_base  # Line reactance, pu\n",
    "print(f\"Line impedance, X_l = {X_l:.4f}\")\n",
    "\n",
    "Z_LL_pu = Z_LL/Z_base\n",
    "print(f\"Local load, R = {Z_LL_pu:.2f}\")"
   ],
   "metadata": {
    "collapsed": false,
    "ExecuteTime": {
     "end_time": "2024-07-17T12:51:50.878720Z",
     "start_time": "2024-07-17T12:51:50.863698Z"
    }
   },
   "outputs": [
    {
     "name": "stdout",
     "output_type": "stream",
     "text": [
      "IB voltage, Vs = 0.898∠0°\n",
      "Line impedance, X_l = 0.0000+0.0833j\n",
      "Local load, R = 1.67+0.00j\n"
     ]
    }
   ],
   "execution_count": 50
  },
  {
   "cell_type": "code",
   "source": [
    "# # Test\n",
    "# P_pu = 0.3\n",
    "# PF = 0.9\n",
    "# Q_pu = complex(0,P_pu * cmath.tan(cmath.acos(PF))) # Reactive power, MVAr\n",
    "# S_pu = P_pu + Q_pu\n",
    "# print(f\"IB apparent power, S_pu = {S_pu:.3f}\")\n",
    "# print(f\"Power factor angle = {-cmath.acos(PF).real * 180/math.pi}°\")"
   ],
   "metadata": {
    "collapsed": false,
    "ExecuteTime": {
     "end_time": "2024-07-17T12:51:50.894253Z",
     "start_time": "2024-07-17T12:51:50.879721Z"
    }
   },
   "outputs": [],
   "execution_count": 51
  },
  {
   "cell_type": "code",
   "source": [
    "P_pu = (P/S_base) # Real power, pu\n",
    "Q_pu = complex(0,P_pu * cmath.tan(cmath.acos(PF))) # Reactive power, pu\n",
    "S_pu = P_pu + Q_pu # Complex power, pu\n",
    "\n",
    "print(f\"IB Complex power, S_pu = {S_pu:.3f}\")\n",
    "print(f\"IB apparent power, S_pu = {abs(S_pu):.3f}\")"
   ],
   "metadata": {
    "collapsed": false,
    "ExecuteTime": {
     "end_time": "2024-07-17T12:51:50.909461Z",
     "start_time": "2024-07-17T12:51:50.895245Z"
    }
   },
   "outputs": [
    {
     "name": "stdout",
     "output_type": "stream",
     "text": [
      "IB Complex power, S_pu = 0.300+0.145j\n",
      "IB apparent power, S_pu = 0.333\n"
     ]
    }
   ],
   "execution_count": 52
  },
  {
   "cell_type": "code",
   "source": [
    "I_line = np.conj(S_pu/IB_V_pu) # Check if the parentheses are correct\n",
    "PrintPolar(\"Line current, I_line\", I_line, 3, 1)\n",
    "\n",
    "ΔV_line = I_line*X_l\n",
    "PrintPolar(\"Voltage drop across the line, ΔV_line\", ΔV_line, 4, 1)\n",
    "\n",
    "V_Transformer = ΔV_line + IB_V_pu\n",
    "PrintPolar(\"Load/Transformer voltage, V_Transformer\", V_Transformer, 3, 2)"
   ],
   "metadata": {
    "collapsed": false,
    "ExecuteTime": {
     "end_time": "2024-07-17T12:51:50.925492Z",
     "start_time": "2024-07-17T12:51:50.910492Z"
    }
   },
   "outputs": [
    {
     "name": "stdout",
     "output_type": "stream",
     "text": [
      "Line current, I_line = 0.371∠-25.8°\n",
      "Voltage drop across the line, ΔV_line = 0.0309∠64.2°\n",
      "Load/Transformer voltage, V_Transformer = 0.912∠1.75°\n"
     ]
    }
   ],
   "execution_count": 53
  },
  {
   "cell_type": "code",
   "source": [
    "I_LL = V_Transformer/Z_LL_pu\n",
    "PrintPolar(\"I_Local_Load\", I_LL, 3, 2)\n",
    "\n",
    "P_load = (V_Transformer * np.conj(I_LL)).real\n",
    "print(f\"Local load active Power = {P_load:.10f} [pu], or {P_load*SgN:.1f} MW\")"
   ],
   "metadata": {
    "collapsed": false,
    "ExecuteTime": {
     "end_time": "2024-07-17T12:51:50.940634Z",
     "start_time": "2024-07-17T12:51:50.926492Z"
    }
   },
   "outputs": [
    {
     "name": "stdout",
     "output_type": "stream",
     "text": [
      "I_Local_Load = 0.547∠1.75°\n",
      "Local load active Power = 0.4991035842 [pu], or 25.0 MW\n"
     ]
    }
   ],
   "execution_count": 54
  },
  {
   "cell_type": "code",
   "source": [
    "# Step 1: find I\n",
    "I = I_line + I_LL\n",
    "PrintPolar(\"Total generator current, I\", I, 10, 10)\n",
    "\n",
    "φ = cmath.phase(I)\n",
    "print(f\"\\x1b[95mφ = {φ*180/cmath.pi:.2f}° : Angle between the infinite bus and the current\\x1b[0m\")"
   ],
   "metadata": {
    "collapsed": false,
    "ExecuteTime": {
     "end_time": "2024-07-17T12:51:50.956634Z",
     "start_time": "2024-07-17T12:51:50.941636Z"
    }
   },
   "outputs": [
    {
     "name": "stdout",
     "output_type": "stream",
     "text": [
      "Total generator current, I = 0.8930483555∠-9.3509107724°\n",
      "\u001B[95mφ = -9.35° : Angle between the infinite bus and the current\u001B[0m\n"
     ]
    }
   ],
   "execution_count": 55
  },
  {
   "cell_type": "code",
   "source": [
    "ΔV_t = I*Xt\n",
    "PrintPolar(\"Voltage drop across generator transformer, ΔV_t\", ΔV_t, 4, 1)\n",
    "\n",
    "# Step 2: find Vg\n",
    "Vg = ΔV_t + V_Transformer\n",
    "PrintPolar(\"Generator terminal voltage, Vg\", Vg, 10, 10)\n",
    "print(f\"\\x1b[95mLook at Vg angle!\\x1b[0m\")\n",
    "\n",
    "PrintPolar(\"Transformer voltage, Vt\", Vg-ΔV_t, 3, 2)"
   ],
   "metadata": {
    "collapsed": false,
    "ExecuteTime": {
     "end_time": "2024-07-17T12:51:50.971881Z",
     "start_time": "2024-07-17T12:51:50.957639Z"
    }
   },
   "outputs": [
    {
     "name": "stdout",
     "output_type": "stream",
     "text": [
      "Voltage drop across generator transformer, ΔV_t = 0.0893∠80.6°\n",
      "Generator terminal voltage, Vg = 0.9331790909∠7.1374426179°\n",
      "\u001B[95mLook at Vg angle!\u001B[0m\n",
      "Transformer voltage, Vt = 0.912∠1.75°\n"
     ]
    }
   ],
   "execution_count": 56
  },
  {
   "cell_type": "code",
   "source": [
    "# Step 3: find 𝛿\n",
    "EQ = Vg + I*Xq\n",
    "𝛿 = cmath.phase(EQ)\n",
    "\n",
    "# Step 4: find β so you can decompose the current to dq-frame\n",
    "β = 𝛿 + -(φ)\n",
    "PrintPolar(\"Internal emf, EQ\", EQ, 3, 2)\n",
    "print(f\"\\x1b[95m𝛿 = {𝛿*180/cmath.pi:.1f}° : Angle between Eq, or the q-axis, and IB\\x1b[0m\")\n",
    "print(f\"\\x1b[95mβ = 𝛿 + -(φ) = {𝛿*180/cmath.pi:.1f}° + -({φ*180/cmath.pi:.1f}°) = {β*180/cmath.pi:.1f}° : Angle between Eq and I\\x1b[0m\")"
   ],
   "metadata": {
    "collapsed": false,
    "ExecuteTime": {
     "end_time": "2024-07-17T12:51:50.986899Z",
     "start_time": "2024-07-17T12:51:50.972888Z"
    }
   },
   "outputs": [
    {
     "name": "stdout",
     "output_type": "stream",
     "text": [
      "Internal emf, EQ = 1.237∠34.32°\n",
      "\u001B[95m𝛿 = 34.3° : Angle between Eq, or the q-axis, and IB\u001B[0m\n",
      "\u001B[95mβ = 𝛿 + -(φ) = 34.3° + -(-9.4°) = 43.7° : Angle between Eq and I\u001B[0m\n"
     ]
    }
   ],
   "execution_count": 57
  },
  {
   "cell_type": "code",
   "source": [
    "print(\"\\nThe steady-state define the initial conditions for the linear model. The necessary quantities are:\\n\")\n",
    "\n",
    "Id = cmath.rect(abs(I)*math.sin(β),(𝛿 - cmath.pi/2)) # 𝛿 - 90°, phi must be in radian\n",
    "Iq = cmath.rect(abs(I)*math.cos(β),𝛿) # 𝛿\n",
    "\n",
    "PrintPolar(\"Id = |I|*sin(β)∠(𝛿 - π/2)\", Id, 3, 1)\n",
    "PrintPolar(\"Iq = |I|*cos(β)∠𝛿\", Iq, 3, 1)\n",
    "\n",
    "ΔV_Xd = Xd * Id\n",
    "ΔV_Xq = Xq * Iq\n",
    "PrintPolar(\"ΔV_Xd = Xd*Id\", ΔV_Xd, 3, 1)\n",
    "PrintPolar(\"ΔV_Xq = Xq*Id\", ΔV_Xq, 3, 1)\n",
    "\n",
    "Eq = Vg + ΔV_Xd + ΔV_Xq\n",
    "PrintPolar(\"Eq\", Eq, 2, 1)\n",
    "print(f\"The internal induced voltage = {abs(Eq)*UgN:.3f} kV\")\n",
    "\n",
    "Pg = (Vg * np.conj(I)).real\n",
    "print(f\"Generator active Power = {Pg:.10f} [pu], or {Pg*SgN:.1f} MW\")\n",
    "\n",
    "# or\n",
    "# abs(V_Transformer)**2/Z_LL_pu + P_pu\n",
    "\n",
    "Qg = (Vg * np.conj(I)).imag\n",
    "print(f\"Generator reactive Power = {Qg:.10f} [pu], or {Qg*SgN:.10f} MVAr\")\n",
    "\n",
    "PrintPolar(\"Vg\", Vg, 3, 1)\n",
    "Sgg = complex(Pg, Qg)\n",
    "Igg = np.conj(Sgg/Vg)\n",
    "PrintPolar(\"Igg\", Igg, 3, 1)"
   ],
   "metadata": {
    "collapsed": false,
    "ExecuteTime": {
     "end_time": "2024-07-17T12:51:51.002456Z",
     "start_time": "2024-07-17T12:51:50.988417Z"
    }
   },
   "outputs": [
    {
     "name": "stdout",
     "output_type": "stream",
     "text": [
      "\n",
      "The steady-state define the initial conditions for the linear model. The necessary quantities are:\n",
      "\n",
      "Id = |I|*sin(β)∠(𝛿 - π/2) = 0.617∠-55.7°\n",
      "Iq = |I|*cos(β)∠𝛿 = 0.646∠34.3°\n",
      "ΔV_Xd = Xd*Id = 0.648∠34.3°\n",
      "ΔV_Xq = Xq*Id = 0.426∠124.3°\n",
      "Eq = 1.48∠34.3°\n",
      "The internal induced voltage = 14.776 kV\n",
      "Generator active Power = 0.7991035842 [pu], or 40.0 MW\n",
      "Generator reactive Power = 0.2365285886 [pu], or 11.8264294277 MVAr\n",
      "Vg = 0.933∠7.1°\n",
      "Igg = 0.893∠-9.4°\n"
     ]
    }
   ],
   "execution_count": 58
  },
  {
   "cell_type": "code",
   "source": [
    "AB_to_DQ = np.array([\n",
    "    [-np.sin(𝛿), np.cos(𝛿)],\n",
    "    [np.cos(𝛿), np.sin(𝛿)]\n",
    "])\n",
    "\n",
    "# Convert from Complex to rectangular coordinates.\n",
    "I_ab = np.array([\n",
    "    [np.cos(φ)],\n",
    "    [np.sin(φ)]\n",
    "])*abs(I)\n",
    "print(\"I_ab = \\n\",I_ab)\n",
    "# or\n",
    "# print(\"I_ab = \\n\",np.array([\n",
    "#     [I.real],\n",
    "#     [I.imag]\n",
    "# ]))\n",
    "C = np.matmul(AB_to_DQ,I_ab)\n",
    "# C = AB_to_DQ@I_ab\n",
    "print(\"I_dq = \\n\",C)\n",
    "\n",
    "Id = cmath.rect(abs(C[0]),(𝛿 - cmath.pi/2)) # 𝛿 - 90°, phi must be in radian\n",
    "Iq = cmath.rect(abs(C[1]),𝛿) # 𝛿\n",
    "PrintPolar(\"Id\", Id, 3, 1)\n",
    "PrintPolar(\"Iq\", Iq, 3, 1)"
   ],
   "metadata": {
    "collapsed": false,
    "ExecuteTime": {
     "end_time": "2024-07-17T12:51:51.018457Z",
     "start_time": "2024-07-17T12:51:51.003461Z"
    }
   },
   "outputs": [
    {
     "name": "stdout",
     "output_type": "stream",
     "text": [
      "I_ab = \n",
      " [[ 0.88118129]\n",
      " [-0.14510307]]\n",
      "I_dq = \n",
      " [[-0.61667951]\n",
      " [ 0.64594253]]\n",
      "Id = 0.617∠-55.7°\n",
      "Iq = 0.646∠34.3°\n"
     ]
    },
    {
     "name": "stderr",
     "output_type": "stream",
     "text": [
      "C:\\Users\\kalei\\AppData\\Local\\Temp\\ipykernel_34616\\701689655.py:21: DeprecationWarning: Conversion of an array with ndim > 0 to a scalar is deprecated, and will error in future. Ensure you extract a single element from your array before performing this operation. (Deprecated NumPy 1.25.)\n",
      "  Id = cmath.rect(abs(C[0]),(𝛿 - cmath.pi/2)) # 𝛿 - 90°, phi must be in radian\n",
      "C:\\Users\\kalei\\AppData\\Local\\Temp\\ipykernel_34616\\701689655.py:22: DeprecationWarning: Conversion of an array with ndim > 0 to a scalar is deprecated, and will error in future. Ensure you extract a single element from your array before performing this operation. (Deprecated NumPy 1.25.)\n",
      "  Iq = cmath.rect(abs(C[1]),𝛿) # 𝛿\n"
     ]
    }
   ],
   "execution_count": 59
  },
  {
   "cell_type": "code",
   "source": [
    "C = AB_to_DQ@I_ab\n",
    "print(\"I_dq = \\n\",C)"
   ],
   "metadata": {
    "collapsed": false,
    "ExecuteTime": {
     "end_time": "2024-07-17T12:51:51.034453Z",
     "start_time": "2024-07-17T12:51:51.019448Z"
    }
   },
   "outputs": [
    {
     "name": "stdout",
     "output_type": "stream",
     "text": [
      "I_dq = \n",
      " [[-0.61667951]\n",
      " [ 0.64594253]]\n"
     ]
    }
   ],
   "execution_count": 60
  }
 ],
 "metadata": {
  "kernelspec": {
   "display_name": "Python 3",
   "language": "python",
   "name": "python3"
  },
  "language_info": {
   "codemirror_mode": {
    "name": "ipython",
    "version": 2
   },
   "file_extension": ".py",
   "mimetype": "text/x-python",
   "name": "python",
   "nbconvert_exporter": "python",
   "pygments_lexer": "ipython2",
   "version": "2.7.6"
  }
 },
 "nbformat": 4,
 "nbformat_minor": 0
}
