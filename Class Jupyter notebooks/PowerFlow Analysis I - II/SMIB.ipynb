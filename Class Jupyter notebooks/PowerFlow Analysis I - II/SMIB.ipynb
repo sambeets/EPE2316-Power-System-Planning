{
 "cells": [
  {
   "cell_type": "markdown",
   "metadata": {},
   "source": [
    "# Power Flow Calculations using ANDES (Python library)\n",
    "#### Khaled Aleikish\n",
    "#### University of South-Eastern Norway\n",
    "#### Porsgrunn, July 2024"
   ]
  },
  {
   "cell_type": "markdown",
   "metadata": {},
   "source": [
    "In this jupyter notebook, you can run power flow for:\n",
    "1. The Two-bus system in slide 126: https://github.com/Power-Systems-Textbook/Teaching-Slides/blob/main/Chapter%208%20-%20Power%20Flow.pptx\n",
    "2. SMIB introduced in TET4180: https://www.ntnu.no/studier/emner/TET4180#tab=omEmnet\n",
    "\n",
    "You will find the Power flow results in a txt file '[case]_out' after you run this notebook."
   ]
  },
  {
   "cell_type": "markdown",
   "metadata": {},
   "source": [
    "## Preliminaries\n",
    "### Packages"
   ]
  },
  {
   "cell_type": "code",
   "execution_count": 9,
   "metadata": {
    "ExecuteTime": {
     "end_time": "2024-07-17T12:51:53.373461Z",
     "start_time": "2024-07-17T12:51:53.363461Z"
    }
   },
   "outputs": [],
   "source": [
    "import andes\n",
    "from andes.utils.paths import get_case\n",
    "import cmath"
   ]
  },
  {
   "cell_type": "code",
   "execution_count": 10,
   "metadata": {
    "ExecuteTime": {
     "end_time": "2024-07-17T12:51:53.388609Z",
     "start_time": "2024-07-17T12:51:53.374465Z"
    }
   },
   "outputs": [],
   "source": [
    "# Configure the verbosity level for logging:\n",
    "andes.config_logger(stream_level=50) # (10-DEBUG, 20-INFO, 30-WARNING, 40-ERROR, 50-CRITICAL)"
   ]
  },
  {
   "cell_type": "markdown",
   "metadata": {},
   "source": [
    "#### Utility functions"
   ]
  },
  {
   "cell_type": "code",
   "execution_count": 11,
   "metadata": {
    "ExecuteTime": {
     "end_time": "2024-07-17T12:51:53.403900Z",
     "start_time": "2024-07-17T12:51:53.389603Z"
    }
   },
   "outputs": [],
   "source": [
    "def PrintPolar(txt, x, f1, f2):\n",
    "    return print(txt+f\" = {abs(x):.{f1}f}∠{cmath.phase(x)*180/cmath.pi:.{f2}f}°\")"
   ]
  },
  {
   "cell_type": "markdown",
   "metadata": {},
   "source": [
    "## The Two-bus system\n",
    "![Two-bus system](Two-bus_system_example.png)"
   ]
  },
  {
   "cell_type": "code",
   "execution_count": 12,
   "metadata": {
    "ExecuteTime": {
     "end_time": "2024-07-17T12:51:53.545771Z",
     "start_time": "2024-07-17T12:51:53.404891Z"
    }
   },
   "outputs": [
    {
     "name": "stdout",
     "output_type": "stream",
     "text": [
      "V_bus[0] = 1.000∠0.00°\n",
      "V_bus[1] = 0.946∠-3.03°\n"
     ]
    }
   ],
   "source": [
    "case = 'SMIB ex1.xlsx'\n",
    "APSC = andes.load(case, default_config=False, setup=False, \n",
    "                  config_option=[\"PFlow.report=1\", \"EIG.report=0\", \"System.mva=50\",\"System.freq=50\"])\n",
    "APSC.setup()\n",
    "APSC.PFlow.run()\n",
    "for i in range(len(APSC.Bus.a.v)):\n",
    "    ab = cmath.rect(APSC.Bus.v.v[i],APSC.Bus.a.v[i])\n",
    "    PrintPolar(f\"V_bus[{i}]\", ab, 3, 2)"
   ]
  },
  {
   "cell_type": "markdown",
   "metadata": {},
   "source": [
    "## TET4180 SMIB"
   ]
  },
  {
   "cell_type": "markdown",
   "metadata": {},
   "source": [
    "![TET4180 SMIB](TET4180_SMIB.png)"
   ]
  },
  {
   "cell_type": "code",
   "execution_count": 13,
   "metadata": {
    "ExecuteTime": {
     "end_time": "2024-07-17T12:51:53.764172Z",
     "start_time": "2024-07-17T12:51:53.546771Z"
    }
   },
   "outputs": [
    {
     "name": "stdout",
     "output_type": "stream",
     "text": [
      "V_bus[0] = 0.933∠3.76°\n",
      "V_bus[1] = 0.913∠1.75°\n",
      "V_bus[2] = 0.898∠0.00°\n"
     ]
    }
   ],
   "source": [
    "case = 'SMIB ex2.xlsx'\n",
    "APSC = andes.load(case, default_config=False, setup=False,\n",
    "                  config_option=[\"PFlow.report=1\", \"EIG.report=0\", \"System.mva=50\", \"System.freq=50\"])\n",
    "APSC.setup()\n",
    "APSC.PFlow.run()\n",
    "for i in range(len(APSC.Bus.a.v)):\n",
    "    ab = cmath.rect(APSC.Bus.v.v[i],APSC.Bus.a.v[i])\n",
    "    PrintPolar(f\"V_bus[{i}]\", ab, 3, 2)"
   ]
  }
 ],
 "metadata": {
  "kernelspec": {
   "display_name": "Python 3 (ipykernel)",
   "language": "python",
   "name": "python3"
  },
  "language_info": {
   "codemirror_mode": {
    "name": "ipython",
    "version": 3
   },
   "file_extension": ".py",
   "mimetype": "text/x-python",
   "name": "python",
   "nbconvert_exporter": "python",
   "pygments_lexer": "ipython3",
   "version": "3.10.9"
  }
 },
 "nbformat": 4,
 "nbformat_minor": 1
}
