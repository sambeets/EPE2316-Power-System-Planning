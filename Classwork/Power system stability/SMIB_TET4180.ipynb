{
 "cells": [
  {
   "cell_type": "markdown",
   "source": [
    "# Single Machine Infinite Bus (SMIB) - Network to Machine Reference Frame Conversion\n",
    "#### Khaled Aleikish\n",
    "#### University of South-Eastern Norway\n",
    "#### Porsgrunn, April 2023"
   ],
   "metadata": {
    "collapsed": false
   }
  },
  {
   "cell_type": "markdown",
   "source": [
    "## Preliminaries\n",
    "### Packages"
   ],
   "metadata": {
    "collapsed": false
   }
  },
  {
   "cell_type": "code",
   "source": [
    "import math\n",
    "import cmath\n",
    "import numpy as np\n",
    "from scipy import linalg"
   ],
   "metadata": {
    "collapsed": false,
    "ExecuteTime": {
     "end_time": "2024-08-01T12:58:31.544609Z",
     "start_time": "2024-08-01T12:58:31.388066Z"
    }
   },
   "outputs": [],
   "execution_count": 1
  },
  {
   "cell_type": "markdown",
   "source": [
    "#### Utility functions"
   ],
   "metadata": {
    "collapsed": false
   }
  },
  {
   "cell_type": "code",
   "source": [
    "def cis(x):\n",
    "    return complex(math.cos(x), math.sin(x))\n",
    "\n",
    "def PrintPolar(txt, x, f1, f2):\n",
    "    return print(txt+f\" = {abs(x):.{f1}f}∠{cmath.phase(x)*180/cmath.pi:.{f2}f}°\")"
   ],
   "metadata": {
    "collapsed": false,
    "ExecuteTime": {
     "end_time": "2024-08-01T12:58:31.559779Z",
     "start_time": "2024-08-01T12:58:31.545600Z"
    }
   },
   "outputs": [],
   "execution_count": 2
  },
  {
   "metadata": {},
   "cell_type": "markdown",
   "source": "# TET4180 SMIB"
  },
  {
   "metadata": {},
   "cell_type": "markdown",
   "source": "![TET4180 SMIB](TET4180_SMIB.png)"
  },
  {
   "cell_type": "markdown",
   "source": [
    "## System Parameters"
   ],
   "metadata": {
    "collapsed": false
   }
  },
  {
   "cell_type": "markdown",
   "source": [
    "#### Network parameters"
   ],
   "metadata": {
    "collapsed": false
   }
  },
  {
   "cell_type": "code",
   "source": [
    "fn = 50 # Nominal frequency, Hz\n",
    "wn = 2*math.pi*fn # Nominal frequency, rad/s\n",
    "IB_V = 220 # Infinite busbar voltage, kV"
   ],
   "metadata": {
    "collapsed": false,
    "ExecuteTime": {
     "end_time": "2024-08-01T12:58:31.575771Z",
     "start_time": "2024-08-01T12:58:31.560772Z"
    }
   },
   "outputs": [],
   "execution_count": 3
  },
  {
   "cell_type": "markdown",
   "source": [
    "#### Generator parameters"
   ],
   "metadata": {
    "collapsed": false
   }
  },
  {
   "cell_type": "code",
   "source": [
    "SgN = 50 # Rated apparent power, MVA\n",
    "UgN = 10 # Rated voltage, kV\n",
    "\n",
    "Xd = complex(0, 1.05) # d-axis synchronous reactance, pu\n",
    "Xq = complex(0, 0.66) # q-axis synchronous reactance, pu\n",
    "\n",
    "Xd_prime = complex(0, 0.328) # d-axis transient reactance, pu\n",
    "# Xq_prime = ? # q-axis transient reactance, pu\n",
    "\n",
    "Xd_double_prime = complex(0, 0.254) # d-axis subtransient reactance, pu\n",
    "Xq_double_prime = complex(0, 0.273) # q-axis subtransient reactance, pu\n",
    "\n",
    "Tdo_prime = 2.49 # Open-circuit d-axis transient time constants, s\n",
    "# Tq0_prime = ? # Open-circuit q-axis transient time constants, s\n",
    "\n",
    "Tdo_double_prime = 0.06 # Open-circuit d-axis subtransient time constant, s\n",
    "Tqo_double_prime = 0.15 # Open-circuit q-axis subtransient time constant, s\n",
    "\n",
    "Td_prime = Tdo_prime * (Xd_prime/Xd) # Short-circuit d-axis transient time constant, s\n",
    "# Tq_prime = Tqo_prime * (Xq_prime/Xq) # Short-circuit q-axis transient time constant, s\n",
    "\n",
    "Td_double_prime = Tdo_double_prime * (Xd_double_prime/Xd_prime) # Short-circuit d-axis subtransient time constant, s\n",
    "# Tq_double_prime = Tqo_double_prime * (Xq_double_prime/Xq_prime) # Short-circuit q-axis subtransient time constant, s\n",
    "\n",
    "Ra = 0 # Armature resistance, pu\n",
    "H = 3.1 # Inertia constant, s or (MWs/MVA)\n",
    "Xl = complex(0, 0.1) # Armature leakage reactance, pu\n",
    "\n",
    "# Parameters are passed to functions in a list to avoid problems associated with global variables.\n",
    "genPar = [Xd, Xq, Xd_prime, Xd_double_prime, Xq_double_prime, Tdo_prime, Tdo_double_prime, Tqo_double_prime, Td_prime, Td_double_prime]"
   ],
   "metadata": {
    "collapsed": false,
    "ExecuteTime": {
     "end_time": "2024-08-01T12:58:31.591772Z",
     "start_time": "2024-08-01T12:58:31.577115Z"
    }
   },
   "outputs": [],
   "execution_count": 4
  },
  {
   "cell_type": "markdown",
   "source": [
    "#### Transformer parameters"
   ],
   "metadata": {
    "collapsed": false
   }
  },
  {
   "cell_type": "code",
   "source": [
    "Xt = complex(0, 0.1) # Transformer reactance, pu\n",
    "\n",
    "# StN = 50 # Rated apparent power, MVA\n",
    "# UtN = 10/245 # Rated voltage, kV"
   ],
   "metadata": {
    "collapsed": false,
    "ExecuteTime": {
     "end_time": "2024-08-01T12:58:31.606764Z",
     "start_time": "2024-08-01T12:58:31.592773Z"
    }
   },
   "outputs": [],
   "execution_count": 5
  },
  {
   "cell_type": "markdown",
   "source": [
    "#### Local load"
   ],
   "metadata": {
    "collapsed": false
   }
  },
  {
   "cell_type": "code",
   "source": [
    "# Z_LL = float('inf') # Local load, Ohm\n",
    "Z_LL = complex(2000,0) # Local load, Ohm"
   ],
   "metadata": {
    "collapsed": false,
    "ExecuteTime": {
     "end_time": "2024-08-01T12:58:31.621765Z",
     "start_time": "2024-08-01T12:58:31.607764Z"
    }
   },
   "outputs": [],
   "execution_count": 6
  },
  {
   "cell_type": "markdown",
   "source": [
    "#### Line parameters\n",
    "- Line resistance is neglected."
   ],
   "metadata": {
    "collapsed": false
   }
  },
  {
   "cell_type": "code",
   "source": [
    "UN = 245 # The line voltage, kV\n",
    "line_length = 250 # km\n",
    "x = complex(0,0.4) # Ohm/km"
   ],
   "metadata": {
    "collapsed": false,
    "ExecuteTime": {
     "end_time": "2024-08-01T12:58:31.636772Z",
     "start_time": "2024-08-01T12:58:31.622764Z"
    }
   },
   "outputs": [],
   "execution_count": 7
  },
  {
   "cell_type": "markdown",
   "source": [
    "#### Base quantities"
   ],
   "metadata": {
    "collapsed": false
   }
  },
  {
   "cell_type": "code",
   "source": [
    "S_base = SgN # Rated apparent power, MVA\n",
    "V_base = UN # Base voltage, kV\n",
    "Z_base = (V_base**2)/S_base # Base impedance, Ohm\n",
    "I_base = V_base/(Z_base*cmath.sqrt(3))\n",
    "\n",
    "print(f\"Base impedance, Z_base = {Z_base:.1f} [Ohm]\")\n",
    "# print(f\"Base current, I_base = {I_base:.1f} [Ohm]\")"
   ],
   "metadata": {
    "collapsed": false,
    "ExecuteTime": {
     "end_time": "2024-08-01T12:58:31.652788Z",
     "start_time": "2024-08-01T12:58:31.637764Z"
    }
   },
   "outputs": [
    {
     "name": "stdout",
     "output_type": "stream",
     "text": [
      "Base impedance, Z_base = 1200.5 [Ohm]\n"
     ]
    }
   ],
   "execution_count": 8
  },
  {
   "cell_type": "markdown",
   "source": [
    "#### Initial operational parameters"
   ],
   "metadata": {
    "collapsed": false
   }
  },
  {
   "cell_type": "code",
   "source": [
    "P = 15 # MW\n",
    "PF = 0.9 # Power factor lagging"
   ],
   "metadata": {
    "collapsed": false,
    "ExecuteTime": {
     "end_time": "2024-08-01T12:58:31.668312Z",
     "start_time": "2024-08-01T12:58:31.653789Z"
    }
   },
   "outputs": [],
   "execution_count": 9
  },
  {
   "cell_type": "markdown",
   "source": [
    "## Initial power flow\n",
    "- The inﬁnite bus voltage is set as the reference.\n",
    "- The generator is over-excited at a known power factor PF = cos(φ)."
   ],
   "metadata": {
    "collapsed": false
   }
  },
  {
   "cell_type": "code",
   "source": [
    "IB_V_pu  = IB_V/V_base\n",
    "PrintPolar(\"IB voltage, Vs\", IB_V_pu, 3, 0)\n",
    "\n",
    "X_l = (x*line_length)/Z_base  # Line reactance, pu\n",
    "print(f\"Line impedance, X_l = {X_l:.4f}\")\n",
    "\n",
    "Z_LL_pu = Z_LL/Z_base\n",
    "print(f\"Local load, R = {Z_LL_pu:.2f}\")"
   ],
   "metadata": {
    "collapsed": false,
    "ExecuteTime": {
     "end_time": "2024-08-01T12:58:31.683322Z",
     "start_time": "2024-08-01T12:58:31.670311Z"
    }
   },
   "outputs": [
    {
     "name": "stdout",
     "output_type": "stream",
     "text": [
      "IB voltage, Vs = 0.898∠0°\n",
      "Line impedance, X_l = 0.0000+0.0833j\n",
      "Local load, R = 1.67+0.00j\n"
     ]
    }
   ],
   "execution_count": 10
  },
  {
   "cell_type": "code",
   "source": [
    "# # Test\n",
    "# P_pu = 0.3\n",
    "# PF = 0.9\n",
    "# Q_pu = complex(0,P_pu * cmath.tan(cmath.acos(PF))) # Reactive power, MVAr\n",
    "# S_pu = P_pu + Q_pu\n",
    "# print(f\"IB apparent power, S_pu = {S_pu:.3f}\")\n",
    "# print(f\"Power factor angle = {-cmath.acos(PF).real * 180/math.pi}°\")"
   ],
   "metadata": {
    "collapsed": false,
    "ExecuteTime": {
     "end_time": "2024-08-01T12:58:31.699312Z",
     "start_time": "2024-08-01T12:58:31.684312Z"
    }
   },
   "outputs": [],
   "execution_count": 11
  },
  {
   "cell_type": "code",
   "source": [
    "P_pu = (P/S_base) # Real power, pu\n",
    "Q_pu = complex(0,P_pu * cmath.tan(cmath.acos(PF))) # Reactive power, pu\n",
    "S_pu = P_pu + Q_pu # Complex power, pu\n",
    "\n",
    "print(f\"IB Complex power, S_pu = {S_pu:.3f}\")\n",
    "print(f\"IB apparent power, S_pu = {abs(S_pu):.3f}\")"
   ],
   "metadata": {
    "collapsed": false,
    "ExecuteTime": {
     "end_time": "2024-08-01T12:58:31.715319Z",
     "start_time": "2024-08-01T12:58:31.702311Z"
    }
   },
   "outputs": [
    {
     "name": "stdout",
     "output_type": "stream",
     "text": [
      "IB Complex power, S_pu = 0.300+0.145j\n",
      "IB apparent power, S_pu = 0.333\n"
     ]
    }
   ],
   "execution_count": 12
  },
  {
   "cell_type": "code",
   "source": [
    "I_line = np.conj(S_pu/IB_V_pu) # Check if the parentheses are correct\n",
    "PrintPolar(\"Line current, I_line\", I_line, 3, 1)\n",
    "\n",
    "ΔV_line = I_line*X_l\n",
    "PrintPolar(\"Voltage drop across the line, ΔV_line\", ΔV_line, 4, 1)\n",
    "\n",
    "V_Transformer = ΔV_line + IB_V_pu\n",
    "PrintPolar(\"Load/Transformer voltage, V_Transformer\", V_Transformer, 3, 2)"
   ],
   "metadata": {
    "collapsed": false,
    "ExecuteTime": {
     "end_time": "2024-08-01T12:58:31.731319Z",
     "start_time": "2024-08-01T12:58:31.716320Z"
    }
   },
   "outputs": [
    {
     "name": "stdout",
     "output_type": "stream",
     "text": [
      "Line current, I_line = 0.371∠-25.8°\n",
      "Voltage drop across the line, ΔV_line = 0.0309∠64.2°\n",
      "Load/Transformer voltage, V_Transformer = 0.912∠1.75°\n"
     ]
    }
   ],
   "execution_count": 13
  },
  {
   "cell_type": "code",
   "source": [
    "I_LL = V_Transformer/Z_LL_pu\n",
    "PrintPolar(\"I_Local_Load\", I_LL, 3, 2)\n",
    "\n",
    "P_load = (V_Transformer * np.conj(I_LL)).real\n",
    "print(f\"Local load active Power = {P_load:.10f} [pu], or {P_load*SgN:.1f} MW\")"
   ],
   "metadata": {
    "collapsed": false,
    "ExecuteTime": {
     "end_time": "2024-08-01T12:58:31.746334Z",
     "start_time": "2024-08-01T12:58:31.732312Z"
    }
   },
   "outputs": [
    {
     "name": "stdout",
     "output_type": "stream",
     "text": [
      "I_Local_Load = 0.547∠1.75°\n",
      "Local load active Power = 0.4991035842 [pu], or 25.0 MW\n"
     ]
    }
   ],
   "execution_count": 14
  },
  {
   "cell_type": "code",
   "source": [
    "# Step 1: find I\n",
    "I = I_line + I_LL\n",
    "PrintPolar(\"Total generator current, I\", I, 10, 10)\n",
    "\n",
    "φ = cmath.phase(I)\n",
    "print(f\"\\x1b[95mφ = {φ*180/cmath.pi:.2f}° : Angle between the infinite bus and the current\\x1b[0m\")"
   ],
   "metadata": {
    "collapsed": false,
    "ExecuteTime": {
     "end_time": "2024-08-01T12:58:31.761851Z",
     "start_time": "2024-08-01T12:58:31.747334Z"
    }
   },
   "outputs": [
    {
     "name": "stdout",
     "output_type": "stream",
     "text": [
      "Total generator current, I = 0.8930483555∠-9.3509107724°\n",
      "\u001B[95mφ = -9.35° : Angle between the infinite bus and the current\u001B[0m\n"
     ]
    }
   ],
   "execution_count": 15
  },
  {
   "cell_type": "code",
   "source": [
    "ΔV_t = I*Xt\n",
    "PrintPolar(\"Voltage drop across generator transformer, ΔV_t\", ΔV_t, 4, 1)\n",
    "\n",
    "# Step 2: find Vg\n",
    "Vg = ΔV_t + V_Transformer\n",
    "PrintPolar(\"Generator terminal voltage, Vg\", Vg, 10, 10)\n",
    "print(f\"\\x1b[95mLook at Vg angle!\\x1b[0m\")\n",
    "\n",
    "PrintPolar(\"Transformer voltage, Vt\", Vg-ΔV_t, 3, 2)"
   ],
   "metadata": {
    "collapsed": false,
    "ExecuteTime": {
     "end_time": "2024-08-01T12:58:31.777850Z",
     "start_time": "2024-08-01T12:58:31.762843Z"
    }
   },
   "outputs": [
    {
     "name": "stdout",
     "output_type": "stream",
     "text": [
      "Voltage drop across generator transformer, ΔV_t = 0.0893∠80.6°\n",
      "Generator terminal voltage, Vg = 0.9331790909∠7.1374426179°\n",
      "\u001B[95mLook at Vg angle!\u001B[0m\n",
      "Transformer voltage, Vt = 0.912∠1.75°\n"
     ]
    }
   ],
   "execution_count": 16
  },
  {
   "cell_type": "code",
   "source": [
    "# Step 3: find 𝛿\n",
    "EQ = Vg + I*Xq\n",
    "𝛿 = cmath.phase(EQ)\n",
    "\n",
    "# Step 4: find β so you can decompose the current to dq-frame\n",
    "β = 𝛿 + -(φ)\n",
    "PrintPolar(\"Internal emf, EQ\", EQ, 3, 2)\n",
    "print(f\"\\x1b[95m𝛿 = {𝛿*180/cmath.pi:.1f}° : Angle between Eq, or the q-axis, and IB\\x1b[0m\")\n",
    "print(f\"\\x1b[95mβ = 𝛿 + -(φ) = {𝛿*180/cmath.pi:.1f}° + -({φ*180/cmath.pi:.1f}°) = {β*180/cmath.pi:.1f}° : Angle between Eq and I\\x1b[0m\")"
   ],
   "metadata": {
    "collapsed": false,
    "ExecuteTime": {
     "end_time": "2024-08-01T12:58:31.793851Z",
     "start_time": "2024-08-01T12:58:31.778853Z"
    }
   },
   "outputs": [
    {
     "name": "stdout",
     "output_type": "stream",
     "text": [
      "Internal emf, EQ = 1.237∠34.32°\n",
      "\u001B[95m𝛿 = 34.3° : Angle between Eq, or the q-axis, and IB\u001B[0m\n",
      "\u001B[95mβ = 𝛿 + -(φ) = 34.3° + -(-9.4°) = 43.7° : Angle between Eq and I\u001B[0m\n"
     ]
    }
   ],
   "execution_count": 17
  },
  {
   "cell_type": "code",
   "source": [
    "print(\"\\nThe steady-state define the initial conditions for the linear model. The necessary quantities are:\\n\")\n",
    "\n",
    "Id = cmath.rect(abs(I)*math.sin(β),(𝛿 - cmath.pi/2)) # 𝛿 - 90°, phi must be in radian\n",
    "Iq = cmath.rect(abs(I)*math.cos(β),𝛿) # 𝛿\n",
    "\n",
    "PrintPolar(\"Id = |I|*sin(β)∠(𝛿 - π/2)\", Id, 3, 1)\n",
    "PrintPolar(\"Iq = |I|*cos(β)∠𝛿\", Iq, 3, 1)\n",
    "\n",
    "ΔV_Xd = Xd * Id\n",
    "ΔV_Xq = Xq * Iq\n",
    "PrintPolar(\"ΔV_Xd = Xd*Id\", ΔV_Xd, 3, 1)\n",
    "PrintPolar(\"ΔV_Xq = Xq*Id\", ΔV_Xq, 3, 1)\n",
    "\n",
    "Eq = Vg + ΔV_Xd + ΔV_Xq\n",
    "PrintPolar(\"Eq\", Eq, 2, 1)\n",
    "print(f\"The internal induced voltage = {abs(Eq)*UgN:.3f} kV\")\n",
    "\n",
    "Pg = (Vg * np.conj(I)).real\n",
    "print(f\"Generator active Power = {Pg:.10f} [pu], or {Pg*SgN:.1f} MW\")\n",
    "\n",
    "# or\n",
    "# abs(V_Transformer)**2/Z_LL_pu + P_pu\n",
    "\n",
    "Qg = (Vg * np.conj(I)).imag\n",
    "print(f\"Generator reactive Power = {Qg:.10f} [pu], or {Qg*SgN:.10f} MVAr\")\n",
    "\n",
    "PrintPolar(\"Vg\", Vg, 3, 1)\n",
    "Sgg = complex(Pg, Qg)\n",
    "Igg = np.conj(Sgg/Vg)\n",
    "PrintPolar(\"Igg\", Igg, 3, 1)"
   ],
   "metadata": {
    "collapsed": false,
    "ExecuteTime": {
     "end_time": "2024-08-01T12:58:31.809851Z",
     "start_time": "2024-08-01T12:58:31.794844Z"
    }
   },
   "outputs": [
    {
     "name": "stdout",
     "output_type": "stream",
     "text": [
      "\n",
      "The steady-state define the initial conditions for the linear model. The necessary quantities are:\n",
      "\n",
      "Id = |I|*sin(β)∠(𝛿 - π/2) = 0.617∠-55.7°\n",
      "Iq = |I|*cos(β)∠𝛿 = 0.646∠34.3°\n",
      "ΔV_Xd = Xd*Id = 0.648∠34.3°\n",
      "ΔV_Xq = Xq*Id = 0.426∠124.3°\n",
      "Eq = 1.48∠34.3°\n",
      "The internal induced voltage = 14.776 kV\n",
      "Generator active Power = 0.7991035842 [pu], or 40.0 MW\n",
      "Generator reactive Power = 0.2365285886 [pu], or 11.8264294277 MVAr\n",
      "Vg = 0.933∠7.1°\n",
      "Igg = 0.893∠-9.4°\n"
     ]
    }
   ],
   "execution_count": 18
  },
  {
   "metadata": {
    "ExecuteTime": {
     "end_time": "2024-08-01T12:58:31.841867Z",
     "start_time": "2024-08-01T12:58:31.826843Z"
    }
   },
   "cell_type": "code",
   "source": [
    "AB_to_DQ = np.array([               # The rotor angle, 𝛿, is defined w.r.t. to q-axis\n",
    "    [np.sin(𝛿), -np.cos(𝛿)],\n",
    "    [np.cos(𝛿), np.sin(𝛿)]\n",
    "])\n",
    "\n",
    "I_ab = np.array([\n",
    "    [I.real],\n",
    "    [I.imag]\n",
    "])\n",
    "print(\"I_ab = \\n\",I_ab)\n",
    "\n",
    "C_dq_current = np.matmul(AB_to_DQ, I_ab)\n",
    "Id_v = cmath.rect((C_dq_current[0][0]), 𝛿- cmath.pi/2) # 𝛿 - 90°, phi must be in radian\n",
    "Iq_v = cmath.rect((C_dq_current[1][0]), 𝛿) # 𝛿\n",
    "print(\"I_dq = \\n\",C_dq_current)\n",
    "\n",
    "PrintPolar(\"Id\", Id_v, 3, 1)\n",
    "PrintPolar(\"Iq\", Iq_v, 3, 1)"
   ],
   "outputs": [
    {
     "name": "stdout",
     "output_type": "stream",
     "text": [
      "I_ab = \n",
      " [[ 0.88118129]\n",
      " [-0.14510307]]\n",
      "I_dq = \n",
      " [[0.61667951]\n",
      " [0.64594253]]\n",
      "Id = 0.617∠-55.7°\n",
      "Iq = 0.646∠34.3°\n"
     ]
    }
   ],
   "execution_count": 20
  },
  {
   "metadata": {},
   "cell_type": "markdown",
   "source": "![TET4180 SMIB](delta_conventions_Synchronous_Machine_Modeling_PowerWorld.png)"
  }
 ],
 "metadata": {
  "kernelspec": {
   "display_name": "Python 3",
   "language": "python",
   "name": "python3"
  },
  "language_info": {
   "codemirror_mode": {
    "name": "ipython",
    "version": 2
   },
   "file_extension": ".py",
   "mimetype": "text/x-python",
   "name": "python",
   "nbconvert_exporter": "python",
   "pygments_lexer": "ipython2",
   "version": "2.7.6"
  }
 },
 "nbformat": 4,
 "nbformat_minor": 0
}
