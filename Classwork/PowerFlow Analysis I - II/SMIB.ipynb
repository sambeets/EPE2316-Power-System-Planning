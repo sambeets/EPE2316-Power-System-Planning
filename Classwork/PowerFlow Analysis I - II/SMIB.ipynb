{
 "cells": [
  {
   "cell_type": "markdown",
   "metadata": {},
   "source": [
    "# Power Flow Calculations using ANDES (Python library)\n",
    "#### Khaled Aleikish\n",
    "#### University of South-Eastern Norway\n",
    "#### Porsgrunn, July 2024"
   ]
  },
  {
   "cell_type": "markdown",
   "metadata": {},
   "source": [
    "In this jupyter notebook, you can run power flow for:\n",
    "1. The Two-bus system in slide 126: https://github.com/Power-Systems-Textbook/Teaching-Slides/blob/main/Chapter%208%20-%20Power%20Flow.pptx\n",
    "2. SMIB introduced in TET4180: https://www.ntnu.no/studier/emner/TET4180#tab=omEmnet\n",
    "\n",
    "You will find the Power flow results in a txt file '[case]_out' after you run this notebook."
   ]
  },
  {
   "cell_type": "markdown",
   "metadata": {},
   "source": [
    "## Preliminaries\n",
    "### Packages"
   ]
  },
  {
   "cell_type": "code",
   "metadata": {
    "ExecuteTime": {
     "end_time": "2024-07-20T10:30:32.284506Z",
     "start_time": "2024-07-20T10:30:32.270968Z"
    }
   },
   "source": [
    "try: \n",
    "    import andes\n",
    "except ModuleNotFoundError:\n",
    "    %pip install(\"andes\")\n",
    "from andes.utils.paths import get_case\n",
    "import cmath"
   ],
   "outputs": [],
   "execution_count": 45
  },
  {
   "cell_type": "code",
   "metadata": {
    "ExecuteTime": {
     "end_time": "2024-07-20T10:30:32.300509Z",
     "start_time": "2024-07-20T10:30:32.285525Z"
    }
   },
   "source": [
    "# Configure the verbosity level for logging:\n",
    "andes.config_logger(stream_level=50) # (10-DEBUG, 20-INFO, 30-WARNING, 40-ERROR, 50-CRITICAL)"
   ],
   "outputs": [],
   "execution_count": 46
  },
  {
   "metadata": {},
   "cell_type": "code",
   "outputs": [],
   "execution_count": null,
   "source": [
    "!git clone https://github.com/sambeets/EPE2316_PowerSystemAnalysis.git\n",
    "%cd EPE2316_PowerSystemAnalysis/Classwork/PowerFlow Analysis I - II/"
   ]
  },
  {
   "cell_type": "markdown",
   "metadata": {},
   "source": [
    "#### Utility functions"
   ]
  },
  {
   "cell_type": "code",
   "metadata": {
    "ExecuteTime": {
     "end_time": "2024-07-20T10:30:32.330893Z",
     "start_time": "2024-07-20T10:30:32.317890Z"
    }
   },
   "source": [
    "def PrintPolar(txt, x, f1, f2):\n",
    "    return print(txt+f\" = {abs(x):.{f1}f}∠{cmath.phase(x)*180/cmath.pi:.{f2}f}°\")"
   ],
   "outputs": [],
   "execution_count": 48
  },
  {
   "cell_type": "markdown",
   "metadata": {},
   "source": [
    "## Example 1: The Two-bus system\n",
    "![Two-bus system](Two-bus_system_example.png)"
   ]
  },
  {
   "cell_type": "code",
   "metadata": {
    "ExecuteTime": {
     "end_time": "2024-07-20T10:30:32.550350Z",
     "start_time": "2024-07-20T10:30:32.331885Z"
    }
   },
   "source": [
    "case = 'SMIB ex1.xlsx'\n",
    "APSC = andes.load(case, default_config=False, setup=False, \n",
    "                  config_option=[\"PFlow.report=1\", \"EIG.report=0\", \"System.mva=50\"])\n",
    "APSC.setup()\n",
    "APSC.PFlow.run()\n",
    "for i in range(len(APSC.Bus.a.v)):\n",
    "    ab = cmath.rect(APSC.Bus.v.v[i],APSC.Bus.a.v[i])\n",
    "    PrintPolar(f\"V_bus[{i}]\", ab, 3, 2)"
   ],
   "outputs": [
    {
     "name": "stdout",
     "output_type": "stream",
     "text": [
      "V_bus[0] = 1.000∠0.00°\n",
      "V_bus[1] = 0.946∠-3.03°\n"
     ]
    }
   ],
   "execution_count": 49
  },
  {
   "cell_type": "markdown",
   "metadata": {},
   "source": "## Example 2: TET4180 SMIB"
  },
  {
   "cell_type": "markdown",
   "metadata": {},
   "source": [
    "![TET4180 SMIB](TET4180_SMIB.png)"
   ]
  },
  {
   "cell_type": "code",
   "metadata": {
    "ExecuteTime": {
     "end_time": "2024-07-20T10:30:32.693986Z",
     "start_time": "2024-07-20T10:30:32.551337Z"
    }
   },
   "source": [
    "case = 'SMIB ex2.xlsx'\n",
    "APSC = andes.load(case, default_config=False, setup=False,\n",
    "                  config_option=[\"PFlow.report=1\", \"EIG.report=0\", \"System.mva=50\"])\n",
    "APSC.setup()\n",
    "APSC.PFlow.run()\n",
    "for i in range(len(APSC.Bus.a.v)):\n",
    "    ab = cmath.rect(APSC.Bus.v.v[i],APSC.Bus.a.v[i])\n",
    "    PrintPolar(f\"V_bus[{i}]\", ab, 3, 2)"
   ],
   "outputs": [
    {
     "name": "stdout",
     "output_type": "stream",
     "text": [
      "V_bus[0] = 0.933∠3.76°\n",
      "V_bus[1] = 0.913∠1.75°\n",
      "V_bus[2] = 0.898∠0.00°\n"
     ]
    }
   ],
   "execution_count": 50
  }
 ],
 "metadata": {
  "kernelspec": {
   "display_name": "Python 3 (ipykernel)",
   "language": "python",
   "name": "python3"
  },
  "language_info": {
   "codemirror_mode": {
    "name": "ipython",
    "version": 3
   },
   "file_extension": ".py",
   "mimetype": "text/x-python",
   "name": "python",
   "nbconvert_exporter": "python",
   "pygments_lexer": "ipython3",
   "version": "3.10.9"
  }
 },
 "nbformat": 4,
 "nbformat_minor": 1
}
