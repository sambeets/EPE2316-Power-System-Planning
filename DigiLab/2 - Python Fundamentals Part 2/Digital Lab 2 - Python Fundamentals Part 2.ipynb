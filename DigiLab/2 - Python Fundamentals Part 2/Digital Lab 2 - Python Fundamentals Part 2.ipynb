{
 "cells": [
  {
   "attachments": {},
   "cell_type": "markdown",
   "metadata": {},
   "source": [
    "# Digital Lab 2 - Python Fundamentals Part 2\n",
    "Author: Emil G. Melfald, University of South-Eastern Norway <br><br>\n",
    "This notebook is the continuation of the Python fundamentals series, focusing on more advanced techniques applicable to **Electric Power Analysis**. Building on the foundational skills from Part 1, we will explore objective functions, root finding, and optimization.\n",
    "\n",
    "## Prerequisites\n",
    "Before proceeding, students should thoroughly understand the concepts introduced in **Part 1** of the Python fundamentals. Familiarity with basic mathematical concepts related to root finding and optimization is also beneficial but not required.\n",
    "\n",
    "## Learning Objectives\n",
    "By the end of this notebook, you will be able to:\n",
    "- **Formulate** appropriate objective functions for various problems.\n",
    "- **Find the zeros** (roots) of multivariate functions using **Scipy**.\n",
    "- **Optimize** objective functions with constraints, utilizing the power of computational methods.\n",
    "\n",
    "## Contents\n",
    "1. [Motivation for Solving Multivariate Systems](#Motivation)\n",
    "2. [Mathematical Formulation of Objective Functions](#Objective)\n",
    "3. [Using Scipy for Root Finding](#Root)\n",
    "4. [Using Scipy for Optimization](#Optimization)\n",
    "---"
   ]
  },
  {
   "attachments": {},
   "cell_type": "markdown",
   "metadata": {},
   "source": [
    "# 1. [Motivation for Solving Multivariate Systems](#Motivation)\n",
    "\n",
    "Multivariate systems consist of multiple variables and equations. Solving these systems is a fundamental task in mathematics, engineering, economics, and various other disciplines. The complexity of solving multivariate systems ranges from basic linear algebra to sophisticated optimization problems in real-world applications.\n",
    "\n",
    "### 1.1 Basic Mathematical Concept: System of Linear Equations\n",
    "\n",
    "Consider the system of linear equations:\n",
    "\n",
    "\\begin{align*}\n",
    "3x + 4y &= 12 \\\\\n",
    "5x - 2y &= 1\n",
    "\\end{align*}\n",
    "\n",
    "This represents a fundamental problem in algebra that can be solved using various techniques like substitution, elimination, or matrix methods. Mathematically, the problem is **linear** and we therefore in this case may use linear algebra: \n",
    "\n",
    "$$\\begin{bmatrix} 3 & 4 \\\\ 5 & -2 \\end{bmatrix}\\begin{bmatrix} x \\\\ y \\end{bmatrix} = \\begin{bmatrix} 12 \\\\ 1\\end{bmatrix} $$"
   ]
  },
  {
   "cell_type": "code",
   "execution_count": 2,
   "metadata": {},
   "outputs": [
    {
     "name": "stdout",
     "output_type": "stream",
     "text": [
      "The solution is x = 1.076923076923077 and y = 2.1923076923076925\n",
      "The solution is x = 1.076923076923077, y = 2.192307692307692\n"
     ]
    }
   ],
   "source": [
    "import numpy as np\n",
    "\n",
    "A = np.array([[3, 4], [5, -2]])\n",
    "b = np.array([12, 1])\n",
    "\n",
    "# Solve the linear system using numpy: \n",
    "solution = np.linalg.solve(A, b)\n",
    "print(f\"The solution is x = {solution[0]} and y = {solution[1]}\")\n",
    "\n",
    "# Solve the linear system using matrix inversion: \n",
    "solution = np.linalg.inv(A) @ b \n",
    "print(f\"The solution is x = {solution[0]}, y = {solution[1]}\")"
   ]
  },
  {
   "attachments": {},
   "cell_type": "markdown",
   "metadata": {},
   "source": [
    "## 1.2 Nonlinear systems\n",
    "In more general terms, the above system of equations can be expressed as two separate equations with the following form: \n",
    "\n",
    "$$\n",
    "\\begin{align*}\n",
    "H_1(x, y) = \\text{Non-linear function 1} \\\\\n",
    "H_2(x, y) = \\text{Non-linear function 2}\n",
    "\\end{align*}\n",
    "$$\n",
    "\n",
    "A solution for $x$ and $y$ is found when $[H_1(x, y), H_2(x, y)] = [0, 0]$, also written as $\\textbf{H}(\\textbf{x}) = \\textbf{0}$.\n",
    "\n",
    "As you have learned, the power flow equations can be formulated as a system of equations where the **power flow error** for each calculated bus should be zero. The variables we solve for can be represented as $ y = [ \\theta_1, ..., \\theta_{N_{\\text{bus}}}, V_1, ..., V_{N_{\\text{bus}}}]$ (remember to exclude $V_{\\text{slack}}$, $\\theta_{\\text{slack}}$, and all $V_g$ from $y$). We can represent this system as a set of nonlinear functions, where each function $H_i$ represent one power flow error equation:\n",
    "\n",
    "$$ \\textbf{H}(\\vec{y}) = [H_1(\\vec{y}), ..., H_N(\\vec{y})] $$\n",
    "\n",
    "A solution to the system for is found when the following equation is satisfied: \n",
    "\n",
    "$$ \\textbf{H}(\\vec{y}) = \\vec{0} $$\n",
    "\n",
    "Solving this system for $\\vec{y}$ will yield the correct voltage magnitudes and angles for all busbars in the system (if a feasible solution exists).\n",
    "\n",
    "**Note**: This topic will be covered in more detail in DigiLab 3.\n",
    "\n",
    "### Main Challenge\n",
    "The equation for active power at busbar i: \n",
    "$$ P_i = V_i \\sum_{k=1}^{N_{\\text{bus}}} V_k (G_{ik} \\cos \\theta_{ik} + B_{ik} \\sin \\theta_{ik}) $$\n",
    "$$ Q_i = V_i \\sum_{k=1}^{N_{\\text{bus}}} V_k (G_{ik} \\sin \\theta_{ik} - B_{ik} \\cos \\theta_{ik}) $$\n",
    "\n",
    "\n",
    "The power flow equations are nonlinear, including trigonometric functions like $\\sin$ and $\\cos$, so the linear algebra method shown previously will not yield the correct answer in the first iteration. Algorithms for iteratively solving the **Power Flow Equations**, such as **Gauss-Seidel** or **Newton-Raphson**, are commonly used.\n",
    "\n",
    "The **Scipy** library provides an intuitive API that simplifies the task of solving such nonlinear equations. It will be explored later in this notebook to showcase its applicability in power system analysis."
   ]
  },
  {
   "attachments": {},
   "cell_type": "markdown",
   "metadata": {},
   "source": [
    "## 1.3 Multivariate Optimization\n",
    "Optimization includes three main components. First is the **objective function** which is to be minimized or maximized. Secondly is the **decision variables** which affect our objective function. Lastly is the **optimization constraints**, which set some limits on our decision variables. Constraints may be in the form of equality, or inequality constraints, taking the form shown below. An optimization problem may in general be formulated as follows:\n",
    "\n",
    "$$x^* = \\arg\\min_{x} J(x)$$\n",
    "\n",
    "s. t. (subject to) \n",
    "\n",
    "$$\n",
    "\\begin{align*}\n",
    "H(x) = 0 \\\\\n",
    "G(x) \\ge 0\n",
    "\\end{align*}\n",
    "$$"
   ]
  },
  {
   "attachments": {},
   "cell_type": "markdown",
   "metadata": {},
   "source": [
    "Common optimization problems related to power system engineering may be: \n",
    "* Optimal Power Flow (OPF) \n",
    "* Optimal Reactive Power Dispatch (ORPD) \n",
    "* Unit Commitment \n",
    "* Economic Dispatch \n",
    "* Optimal Switch Posistion\n",
    "* State and parameter estimation"
   ]
  },
  {
   "attachments": {},
   "cell_type": "markdown",
   "metadata": {},
   "source": [
    "All of the above objectives are non linear, and possibly mixed integer. Mixed integer means decision variables include both integer and continuous variables. In other words, some of the variables in the problem can only take on integer values (e.g., 0, 1, 2, ...), while others can take on any real (continuous) values (e.g., 2.54, 3.67, ...). Using **Scipy** we will skip the complecated details around the implementation of the optimization algorithms. \n",
    "\n",
    "---"
   ]
  },
  {
   "attachments": {},
   "cell_type": "markdown",
   "metadata": {},
   "source": [
    "# [Mathematical Formulation of Objective Functions](#Objective)\n",
    "\n",
    "An objective function describes the performance measure of a model for different decision variable values. It quantifies what the root-finder or optimizer shoud solve. The decision variables are the variables that a model will optimize over - they are the \"knobs\" we can turn to influence the objective function. \n",
    "\n",
    "We may also allow arguments to be passed into the objective function, other than the desicion variables. Some examples are shown below. "
   ]
  },
  {
   "attachments": {},
   "cell_type": "markdown",
   "metadata": {},
   "source": [
    "### Example 1\n",
    "\n",
    "$$ f(x) = k_1 x + k_2 x^2 + k_3 $$\n",
    "\n",
    "### Example 2 \n",
    "\n",
    "$$ f(x_1, x_2, k_1, k_2) = k_1x_1 + k_2x_1x_2  $$"
   ]
  },
  {
   "cell_type": "code",
   "execution_count": 3,
   "metadata": {},
   "outputs": [],
   "source": [
    "# Example 1\n",
    "def f(x, k1, k2, k3): \n",
    "    return k1*x + k2*x**2 + k3\n",
    "\n",
    "# Example 2\n",
    "def f(x1, x2, k1, k2): \n",
    "    return k1*x1 + k2*x1*x2 "
   ]
  },
  {
   "cell_type": "markdown",
   "metadata": {},
   "source": [
    "### Example 3 \n",
    "We almost always have multiple decision variables. Therefore, for convenience, we may use vector notation for both the desicion variables, noted as capital X, and eventual function arguments $\\Theta$. \n",
    "\n",
    "$$ f(X; \\Theta) = \\theta_1\\sqrt{x_1} + \\theta_2x_2 $$"
   ]
  },
  {
   "cell_type": "code",
   "execution_count": 4,
   "metadata": {},
   "outputs": [],
   "source": [
    "# Example 3, one solution\n",
    "def f(X, theta): \n",
    "    return theta[0]*np.sqrt(X[0]) + theta[1]*X[1]\n",
    "\n",
    "# Example 3, another solution\n",
    "def f(X, theta): \n",
    "    x1, x2 = X \n",
    "    th1, th2 = theta \n",
    "    return th1*np.sqrt(x1) + th2*x2 "
   ]
  },
  {
   "cell_type": "markdown",
   "metadata": {},
   "source": [
    "# [Using Scipy for Root Finding](#Root)\n",
    "The purpose of root finding in general is to find the values for the desicion variables $X$ such that the objective function $f$ is zero. This is also valid for multivariate variables and functions, as will be shown. We use **scipy.optimize.root** to find the roots in all the following examples. For more information, see [Scipy Root Documentation](https://docs.scipy.org/doc/scipy/reference/generated/scipy.optimize.root.html). "
   ]
  },
  {
   "cell_type": "markdown",
   "metadata": {},
   "source": [
    "### Example 1\n",
    "\n",
    "$$ f(x) = -x + x^2 - 3 $$"
   ]
  },
  {
   "cell_type": "code",
   "execution_count": 2,
   "metadata": {},
   "outputs": [
    {
     "data": {
      "image/png": "[encoded data removed]",
      "text/plain": [
       "<Figure size 576x432 with 1 Axes>"
      ]
     },
     "metadata": {
      "needs_background": "light"
     },
     "output_type": "display_data"
    }
   ],
   "source": [
    "import numpy as np\n",
    "import matplotlib.pyplot as plt\n",
    "from scipy.optimize import root\n",
    "\n",
    "def f(x):\n",
    "    return -x + x**2 - 3\n",
    "\n",
    "def plot_curve(x, f_x): \n",
    "    # Calculate y values\n",
    "    y = f(x)\n",
    "\n",
    "    # Plot\n",
    "    plt.figure(figsize=(8, 6))\n",
    "    plt.plot(x, y)\n",
    "    # plt.fill_between(x, y, alpha=0.2, color='blue', where=(-3 <= x) & (x <= 4))  # highlighting the region of interest\n",
    "\n",
    "    plt.title(\"Objective Function with Constraint\")\n",
    "    plt.xlabel(\"$x$\")\n",
    "    plt.ylabel(\"$f(x)$\")\n",
    "    plt.grid()\n",
    "    plt.show()    \n",
    "\n",
    "# Generating x values considering the constraint\n",
    "x = np.linspace(-2, 3, 400)\n",
    "plot_curve(x, f)"
   ]
  },
  {
   "cell_type": "code",
   "execution_count": null,
   "metadata": {},
   "outputs": [],
   "source": []
  },
  {
   "cell_type": "code",
   "execution_count": 6,
   "metadata": {},
   "outputs": [
    {
     "name": "stdout",
     "output_type": "stream",
     "text": [
      "    fjac: array([[-1.]])\n",
      "     fun: array([0.])\n",
      " message: 'The solution converged.'\n",
      "    nfev: 11\n",
      "     qtf: array([3.06892289e-11])\n",
      "       r: array([3.60555103])\n",
      "  status: 1\n",
      " success: True\n",
      "       x: array([-1.30277564])\n",
      "---\n",
      "    fjac: array([[-1.]])\n",
      "     fun: array([8.8817842e-16])\n",
      " message: 'The solution converged.'\n",
      "    nfev: 8\n",
      "     qtf: array([4.19220214e-13])\n",
      "       r: array([-3.60555126])\n",
      "  status: 1\n",
      " success: True\n",
      "       x: array([2.30277564])\n"
     ]
    }
   ],
   "source": [
    "# We have to specify a starting point for our solver, called x0. \n",
    "# In this case, this value will dictate what the solution will be, as there are several in this example. \n",
    "\n",
    "sol1 = root(f, x0=np.array([0.0]), args=())\n",
    "print(sol1)\n",
    "print(\"---\")\n",
    "sol2 = root(f, x0=np.array([2.0]), args=())\n",
    "print(sol2)\n"
   ]
  },
  {
   "cell_type": "markdown",
   "metadata": {},
   "source": [
    "### Takeaways from Example 1 \n",
    "In a majority of cases there will be several possible solutions to a system of non-linear equations. However, in the case of calculating power flow this is normally not a problem. This is because we usually initialize x0 reasonably close to the actual solution, and therefore the solver will converge in the correct direction.  "
   ]
  },
  {
   "cell_type": "markdown",
   "metadata": {},
   "source": [
    "### Example 2 \n",
    "\n",
    "$$ f(x, \\Theta) = \\sum_{i=0}^{N_{\\theta}} x + \\Theta[i](-1)^i $$\n"
   ]
  },
  {
   "cell_type": "code",
   "execution_count": 21,
   "metadata": {},
   "outputs": [
    {
     "data": {
      "text/plain": [
       "    fjac: array([[-1.]])\n",
       "     fun: 1.1102230246251565e-16\n",
       " message: 'The solution converged.'\n",
       "    nfev: 4\n",
       "     qtf: array([-1.8592905e-12])\n",
       "       r: array([-10.])\n",
       "  status: 1\n",
       " success: True\n",
       "       x: array([0.08524532])"
      ]
     },
     "execution_count": 21,
     "metadata": {},
     "output_type": "execute_result"
    }
   ],
   "source": [
    "np.random.seed(1)\n",
    "\n",
    "def f(X, Theta): \n",
    "    res = 0\n",
    "    for i in range(0, len(Theta)): \n",
    "        res += X[0] + Theta[i]*(-1)**i \n",
    "    return res \n",
    "\n",
    "x0 = np.array([0.0])\n",
    "Theta = np.random.uniform(size=10)\n",
    "sol = root(f, x0, args=(Theta))\n",
    "sol\n"
   ]
  },
  {
   "attachments": {},
   "cell_type": "markdown",
   "metadata": {},
   "source": [
    "### Example 3\n",
    "So far we have covered one function with one input. Using root requires the returning variable to be of same size (dimension) as the desicion variable. \n",
    "\n",
    "$$ f_1(X, \\Theta) = \\theta_1 x_1 + 3 $$\n",
    "\n",
    "$$ f_2(X, \\Theta) = \\theta_2 x_2^2 - x_1 $$\n"
   ]
  },
  {
   "cell_type": "code",
   "execution_count": 24,
   "metadata": {},
   "outputs": [
    {
     "name": "stdout",
     "output_type": "stream",
     "text": [
      "    fjac: array([[-0.83205029, -0.5547002 ],\n",
      "       [ 0.5547002 , -0.83205029]])\n",
      "     fun: array([0.00000000e+00, 1.33226763e-15])\n",
      " message: 'The solution converged.'\n",
      "    nfev: 10\n",
      "     qtf: array([6.69459743e-10, 1.00418960e-09])\n",
      "       r: array([ 1.20185043, -1.92153673, -2.88230505])\n",
      "  status: 1\n",
      " success: True\n",
      "       x: array([3.        , 1.73205081])\n"
     ]
    }
   ],
   "source": [
    "def func(X, Theta): \n",
    "    f1 = Theta[0]*X[0] + 3 \n",
    "    f2 = Theta[1]*X[1]*X[1] - X[0] \n",
    "    return np.array([f1, f2]) \n",
    "\n",
    "x0 = np.ones(2)\n",
    "theta = np.array([-1, 1])\n",
    "\n",
    "sol = root(func, x0=x0, args=(theta))\n",
    "print(sol)"
   ]
  },
  {
   "cell_type": "markdown",
   "metadata": {},
   "source": [
    "# [Using Scipy for Optimization](#Optimization)\n",
    "Optimization is different from root finding in three major ways: \n",
    "1. The objective function always return only a one-dimentional number\n",
    "2. A minimum (or maximum) of the objective is found, which might be greater or less than zero. \n",
    "3. The algorithm in most cases needs to handle constraints. \n",
    "\n",
    "The following examples will be general, and we will use the learned techniques later in the course for power system relevant optimization problems. "
   ]
  },
  {
   "cell_type": "markdown",
   "metadata": {},
   "source": [
    "### Example 1\n",
    "\n",
    "$$ \\min J(x) = 2x^2 - 3x + 4 $$\n",
    "\n",
    "s.t.\n",
    "\n",
    "No constraints"
   ]
  },
  {
   "cell_type": "code",
   "execution_count": 8,
   "metadata": {},
   "outputs": [
    {
     "data": {
      "text/plain": [
       "      fun: 2.875\n",
       " hess_inv: array([[0.25]])\n",
       "      jac: array([0.])\n",
       "  message: 'Optimization terminated successfully.'\n",
       "     nfev: 6\n",
       "      nit: 2\n",
       "     njev: 3\n",
       "   status: 0\n",
       "  success: True\n",
       "        x: array([0.74999999])"
      ]
     },
     "execution_count": 8,
     "metadata": {},
     "output_type": "execute_result"
    }
   ],
   "source": [
    "from scipy.optimize import minimize \n",
    "\n",
    "def J(x): \n",
    "    return 2*x**2 - 3*x + 4 \n",
    "\n",
    "sol = minimize(J, x0=np.array([0.0]), args=())\n",
    "sol"
   ]
  },
  {
   "cell_type": "markdown",
   "metadata": {},
   "source": [
    "### Example 2 - Maximizing and adding constraints\n",
    "\n",
    "$$ x^* = \\arg\\max_x J(x) = \\sqrt{4-x} +\\ln{(x)} $$\n",
    "\n",
    "s.t.\n",
    "\n",
    "$$\n",
    "\\begin{align*}\n",
    "x \\in [0, 4]\n",
    "\\end{align*}\n",
    "$$\n",
    "\n",
    "We define the $x \\in [0, 4]$ as a bound, and scipy has its own argument for that. "
   ]
  },
  {
   "cell_type": "code",
   "execution_count": 27,
   "metadata": {},
   "outputs": [
    {
     "name": "stdout",
     "output_type": "stream",
     "text": [
      "The maximum withing the bounds is J(x)=[2.14115051] at x=[2.47213425]\n"
     ]
    },
    {
     "data": {
      "text/plain": [
       "      fun: array([-2.14115051])\n",
       " hess_inv: <1x1 LbfgsInvHessProduct with dtype=float64>\n",
       "      jac: array([-4.88498134e-07])\n",
       "  message: 'CONVERGENCE: NORM_OF_PROJECTED_GRADIENT_<=_PGTOL'\n",
       "     nfev: 12\n",
       "      nit: 5\n",
       "     njev: 6\n",
       "   status: 0\n",
       "  success: True\n",
       "        x: array([2.47213425])"
      ]
     },
     "execution_count": 27,
     "metadata": {},
     "output_type": "execute_result"
    }
   ],
   "source": [
    "import numpy as np \n",
    "from scipy.optimize import minimize\n",
    "\n",
    "def J(x): # Because scipy only has the minimize function, we return the negative objective function to maximize J \n",
    "    return -1.0*(np.sqrt(4-x) + np.log(x))\n",
    "\n",
    "sol = minimize(J, x0=np.array([1.0]), bounds=[(0, 4)])\n",
    "print(f\"The maximum withing the bounds is J(x)={-sol.fun} at x={sol.x}\")\n",
    "sol"
   ]
  },
  {
   "cell_type": "markdown",
   "metadata": {},
   "source": [
    "### Example 3 - Adding equality and inequality constraints\n",
    "\n",
    "$$ x^* = \\arg\\min_x J(X) = X[0] + (X[1]+3)^2 $$\n",
    "\n",
    "s.t.\n",
    "\n",
    "$$\n",
    "\\begin{align*}\n",
    "X[0]^2 + X[1]^2 = 9 \\\\\n",
    "X[1] \\ge -2 \n",
    "\\end{align*}\n",
    "$$\n",
    "\n",
    "TIP: For additional help, consult the [Scipy documentation for minimize.](https://docs.scipy.org/doc/scipy/reference/generated/scipy.optimize.minimize.html)"
   ]
  },
  {
   "cell_type": "code",
   "execution_count": 10,
   "metadata": {},
   "outputs": [
    {
     "data": {
      "text/plain": [
       "     fun: -1.4425389708909517\n",
       "     jac: array([1.        , 1.27661653])\n",
       " message: 'Optimization terminated successfully'\n",
       "    nfev: 26\n",
       "     nit: 8\n",
       "    njev: 8\n",
       "  status: 0\n",
       " success: True\n",
       "       x: array([-1.8499764 , -2.36169175])"
      ]
     },
     "execution_count": 10,
     "metadata": {},
     "output_type": "execute_result"
    }
   ],
   "source": [
    "# As stated in the scipy documentation, we define the constraints in a list of dictionaries\n",
    "# Note that all constraints has to be defined as either \"ineq\" or \"eq\", and that the inequality functions has \n",
    "# the following form: g(x) <= 0\n",
    "\n",
    "def J(X): \n",
    "    return X[0] + (X[1] + 3)**2\n",
    "\n",
    "cons = ({'type': 'eq', 'fun': lambda X: X[0]**2 + X[1]**2 - 9}, \n",
    "        {'type': 'ineq', 'fun': lambda X: X[1] + 2 })\n",
    "\n",
    "sol = minimize(J, x0=np.array([-3.0, 3.0]), constraints=cons)\n",
    "sol"
   ]
  },
  {
   "cell_type": "markdown",
   "metadata": {},
   "source": [
    "#### End of Notebook\n",
    "---"
   ]
  }
 ],
 "metadata": {
  "kernelspec": {
   "display_name": "base",
   "language": "python",
   "name": "python3"
  },
  "language_info": {
   "codemirror_mode": {
    "name": "ipython",
    "version": 3
   },
   "file_extension": ".py",
   "mimetype": "text/x-python",
   "name": "python",
   "nbconvert_exporter": "python",
   "pygments_lexer": "ipython3",
   "version": "3.8.10"
  },
  "orig_nbformat": 4
 },
 "nbformat": 4,
 "nbformat_minor": 2
}
