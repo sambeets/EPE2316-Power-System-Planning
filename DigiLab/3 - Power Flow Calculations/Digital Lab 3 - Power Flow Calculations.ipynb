{
 "cells": [
  {
   "cell_type": "markdown",
   "metadata": {},
   "source": [
    "# Digital Lab 3 - Power Flow Calculations\n",
    "\n",
    "This notebook is the start of the electric power analysis python series, focusing on techniques applicable to **Electric Power Analysis**. \n",
    "\n",
    "## Prerequisites\n",
    "Before proceeding, students should thoroughly understand the concepts introduced in **DigiLab part 1 and 2**. Additionally, familiarity with the power flow formulation is adviced. \n",
    "\n",
    "## Learning Objectives\n",
    "By the end of this notebook, you will be able to:\n",
    "- **Formulate** the fower flow equations  \n",
    "- **Solve** the power flow using **Scipy**.\n",
    "\n",
    "## Contents\n",
    "1. [Busbar definitions in power flow studies](#Busbars)\n",
    "2. [Setting up the system of equations](#Equations)\n",
    "3. [Solving the power flow problem](#SolvePF)\n",
    "---"
   ]
  },
  {
   "cell_type": "code",
   "execution_count": 1,
   "metadata": {},
   "outputs": [],
   "source": [
    "import numpy as np \n",
    "from scipy.optimize import root \n",
    "import matplotlib.pyplot as plt \n"
   ]
  },
  {
   "cell_type": "markdown",
   "metadata": {},
   "source": [
    "# [Busbar definitions in power flow studies](#Busbars)"
   ]
  },
  {
   "cell_type": "code",
   "execution_count": null,
   "metadata": {},
   "outputs": [],
   "source": []
  },
  {
   "cell_type": "markdown",
   "metadata": {},
   "source": [
    "# [Setting up the system of equations](#Equations)"
   ]
  },
  {
   "cell_type": "code",
   "execution_count": null,
   "metadata": {},
   "outputs": [],
   "source": []
  },
  {
   "cell_type": "markdown",
   "metadata": {},
   "source": [
    "# [Solving the power flow problem](#SolvePF)"
   ]
  },
  {
   "cell_type": "markdown",
   "metadata": {},
   "source": []
  }
 ],
 "metadata": {
  "kernelspec": {
   "display_name": "Python 3",
   "language": "python",
   "name": "python3"
  },
  "language_info": {
   "codemirror_mode": {
    "name": "ipython",
    "version": 3
   },
   "file_extension": ".py",
   "mimetype": "text/x-python",
   "name": "python",
   "nbconvert_exporter": "python",
   "pygments_lexer": "ipython3",
   "version": "3.8.10"
  },
  "orig_nbformat": 4
 },
 "nbformat": 4,
 "nbformat_minor": 2
}
