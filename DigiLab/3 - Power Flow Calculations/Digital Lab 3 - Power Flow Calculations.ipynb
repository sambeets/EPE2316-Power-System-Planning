{
 "cells": [
  {
   "cell_type": "markdown",
   "metadata": {},
   "source": [
    "# Digital Lab 3 - Power Flow Calculations\n",
    "Author: Emil G. Melfald, University of South-Eastern Norway <br><br>\n",
    "This notebook is the start of the electric power analysis python series, focusing on techniques applicable to **Electric Power Analysis**. \n",
    "\n",
    "## Prerequisites\n",
    "Before proceeding, students should thoroughly understand the concepts introduced in **DigiLab part 1 and 2**. Additionally, familiarity with the power flow formulation is adviced. \n",
    "\n",
    "## Learning Objectives\n",
    "By the end of this notebook, you will be able to:\n",
    "- **Formulate** the fower flow equations  \n",
    "- **Solve** the power flow using **Scipy**.\n",
    "- Use **PyPSA** to execute power flow calculations. \n",
    "\n",
    "## Contents\n",
    "1. [Busbar definitions in power flow studies](#Busbars)\n",
    "2. [Setting up the system of equations](#Equations)\n",
    "3. [Solving the power flow problem](#SolvePF)\n",
    "---"
   ]
  },
  {
   "cell_type": "code",
   "execution_count": 1,
   "metadata": {},
   "outputs": [],
   "source": [
    "import numpy as np \n",
    "from scipy.optimize import root "
   ]
  },
  {
   "cell_type": "markdown",
   "metadata": {},
   "source": [
    "# [Busbar definitions in power flow studies](#Busbars)\n",
    "You should know that we may represent power system topology through an admittance matrix, $Y_{bus}$. \n",
    "\n",
    "$$ Y = \\begin{bmatrix} Y_{11} & Y_{12} & ... & Y_{1n} \\\\ Y_{21} & ... & ... & Y_{2n} \\\\ ... & ... & ... & ... \\\\ Y_{n1} & Y_{n2} & ... & Y_{nn} \\end{bmatrix} $$\n",
    "\n",
    "Additionally, you should know about the power flow equations: \n",
    "\n",
    "$$ \\begin{bmatrix} \\bar{I_1} \\\\ \\bar{I_2} \\\\ ... \\\\ \\bar{I_n} \\end{bmatrix} = Y_{bus} \\begin{bmatrix} \\bar{V_1} \\\\ \\bar{V_2} \\\\ ... \\\\ \\bar{V_n} \\end{bmatrix} $$\n",
    "\n",
    "In power flow studies, we normally use power injection instead of current injection for convenience of specifying loads and injected power. We convert the injected current to injected power by multiplying with the voltages, as we know $\\bar{S}=\\bar{V}\\cdot \\bar{I^*}$.  \n",
    "\n",
    "$$ \\begin{bmatrix} \\bar{S_1} \\\\ \\bar{S_2} \\\\ ... \\\\ \\bar{S_n} \\end{bmatrix} = \\begin{bmatrix} \\bar{V_1} & 0 & ... & 0 \\\\ 0 & \\bar{V_2} & ... & ... \\\\ ... & ... & ... & ... \\\\ 0 & 0 & ... & \\bar{V_n} \\end{bmatrix} \\begin{bmatrix} \\bar{I_1^*} \\\\ \\bar{I_2^*} \\\\ ... \\\\ \\bar{I_n^*} \\end{bmatrix} $$\n"
   ]
  },
  {
   "cell_type": "markdown",
   "metadata": {},
   "source": [
    "A rather more intuitive and useful definition of the power flow in the system comes from separating the active and reactive power. This leads to the following two equations: \n",
    "\n",
    "$$ P_i = V_i \\sum_{k=1}^{N_{\\text{bus}}} V_k (G_{ik} \\cos \\theta_{ik} + B_{ik} \\sin \\theta_{ik}) $$\n",
    "\n",
    "$$ Q_i = V_i \\sum_{k=1}^{N_{\\text{bus}}} V_k (G_{ik} \\sin \\theta_{ik} - B_{ik} \\cos \\theta_{ik}) $$\n",
    "\n",
    "- $P_i$ - Active power injection into busbar i (positive means generation, negative means demand). \n",
    "- $Q_i$ - Reactive power injection into busbar i (positive means production, negative means demand). \n",
    "- $V_i$ - Voltage magnitude at bus i. \n",
    "- $V_k$ - Voltage magnitude at bus k. \n",
    "- $\\theta_i$ - Voltage angle at bus i. \n",
    "- $\\theta_k$ - Voltage angle at bus k. \n",
    "- $N_{\\text{bus}}$ - Number of busbars in the system. \n",
    "- $G_{ik}$ - Conductance between bus i and bus k. \n",
    "- $B_{ik}$ - Suceptance between bus i and bus k. \n"
   ]
  },
  {
   "cell_type": "markdown",
   "metadata": {},
   "source": [
    "# [Setting up the system of equations](#Equations)\n",
    "The goal when solving the power flow equations is to find the variables $y$ that causes the difference between calculated power flow and specified power flow to be as small as possible. We often call this the **power flow error** (PFE) $\\Delta P$ and $\\Delta Q$. For all busbars that we know either the active power or the reactive power we can specify a power flow error equation. \n",
    "\n",
    "$$ 0 = \\Delta P_i = P_i - P_i^{calc}(y) \\forall i \\in [\\text{PV and PQ buses}] $$\n",
    "\n",
    "$$ 0 = \\Delta Q_i = Q_i - Q_i^{calc}(y) \\forall i \\in [\\text{PQ buses}] $$\n",
    "\n",
    "**For PQ buses: 2 PFEs, 2 unknown variables**\n",
    "- P - known \n",
    "- Q - known \n",
    "- V - unknown \n",
    "- $\\theta$ - unknown \n",
    "\n",
    "**For PV buses: 1 PFE, 1 unknown variable**\n",
    "- P - known \n",
    "- Q - unknown \n",
    "- V - known \n",
    "- $\\theta$ - unknown\n",
    "\n",
    "**For Slack Buses 0 PFE, 0 unknown variable**\n",
    "- P - unknown \n",
    "- Q - unknown \n",
    "- V - known \n",
    "- $\\theta$ - known"
   ]
  },
  {
   "cell_type": "markdown",
   "metadata": {},
   "source": [
    "## Example system: \n",
    "In the system described below the $Y_{bus}$ matrix is given in the supplementary file. <br> \n",
    "\n",
    "![Example system](example1_Powerflow.png)"
   ]
  },
  {
   "cell_type": "markdown",
   "metadata": {},
   "source": [
    "### Identifying variables and equations: \n",
    "In this case, we have two unknowns $y = [\\theta_2, V_2]$. This comes from that both variables are known at the slack bus, and no variables are known at the PQ bus. "
   ]
  },
  {
   "cell_type": "code",
   "execution_count": 2,
   "metadata": {},
   "outputs": [],
   "source": [
    "from Digital_lab_3_supplementary_file import Y_bus_1\n",
    "S_base = 100 # MW \n",
    "V_base = 22 # kV\n",
    "\n",
    "V_vector = np.array([1.0, 1.0]) # We know V at index 0. We initialize V at PQ bus at 1.0 pu \n",
    "theta_vector = np.array([0.0, 0.0]) # We know theta at index 0 and guess it at the PQ bus. \n",
    "P_vector = np.array([0.0, -1.5])/S_base # We know the PQ power. Negative for demand. Remember to convert to pu \n",
    "Q_vector = np.array([0.0, -0.5])/S_base \n",
    "\n",
    "def powerflow_equations(y): \n",
    "    theta1, V1 = y \n",
    "    V_vec = V_vector.copy() \n",
    "    th_vec = theta_vector.copy() \n",
    "\n",
    "    # Insert the variables into the correct vectors before calculating the power flow\n",
    "    th_vec[1] = theta1 \n",
    "    V_vec[1] = V1 \n",
    "\n",
    "    # Calculating the active and reactive power injection for each busbar\n",
    "    P_calc = [] \n",
    "    Q_calc = []\n",
    "    for i in range(len(V_vec)): \n",
    "        P = 0 \n",
    "        Q = 0\n",
    "        for k in range(len(V_vec)): \n",
    "            G_ik = Y_bus_1[i,k].real\n",
    "            B_ik = Y_bus_1[i,k].imag\n",
    "            theta_ik = th_vec[i]-th_vec[k]\n",
    "            P += V_vec[i]*V_vec[k]*(G_ik*np.cos(theta_ik) + B_ik*np.sin(theta_ik))\n",
    "            Q += V_vec[i]*V_vec[k]*(G_ik*np.sin(theta_ik) - B_ik*np.cos(theta_ik))\n",
    "            \n",
    "        P_calc.append(P)\n",
    "        Q_calc.append(Q) \n",
    "    \n",
    "    P_error = P_vector[1] - P_calc[1]\n",
    "    Q_error = Q_vector[1] - Q_calc[1]\n",
    "    return np.array([P_error, Q_error])\n"
   ]
  },
  {
   "cell_type": "markdown",
   "metadata": {},
   "source": [
    "# [Solving the power flow problem](#SolvePF)"
   ]
  },
  {
   "cell_type": "code",
   "execution_count": 3,
   "metadata": {},
   "outputs": [
    {
     "name": "stdout",
     "output_type": "stream",
     "text": [
      "pf_error0 = [-0.015 -0.005], pf_error1 = [-0.01303  0.00025], pf_error2 = [ 0.03841 -0.02203]\n"
     ]
    }
   ],
   "source": [
    "# We start by trying an arbitrary guess for theta2 and V2: \n",
    "# y = [theta2, V2]\n",
    "pf_error0 = powerflow_equations(np.array([0.0, 1.0]))\n",
    "pf_error1 = powerflow_equations(np.array([0.0, 0.99]))\n",
    "pf_error2 = powerflow_equations(np.array([-0.1, 0.99]))\n",
    "print(f\"pf_error0 = {pf_error0.round(5)}, pf_error1 = {pf_error1.round(5)}, pf_error2 = {pf_error2.round(5)}\")"
   ]
  },
  {
   "cell_type": "code",
   "execution_count": 4,
   "metadata": {},
   "outputs": [
    {
     "data": {
      "text/plain": [
       " message: The solution converged.\n",
       " success: True\n",
       "  status: 1\n",
       "     fun: [-1.403e-14 -2.364e-14]\n",
       "       x: [-2.210e-02  9.819e-01]\n",
       "    nfev: 8\n",
       "    fjac: [[-9.255e-01  3.788e-01]\n",
       "           [-3.788e-01 -9.255e-01]]\n",
       "       r: [ 5.556e-01 -2.845e-02  5.475e-01]\n",
       "     qtf: [ 1.998e-12  1.308e-11]"
      ]
     },
     "execution_count": 4,
     "metadata": {},
     "output_type": "execute_result"
    }
   ],
   "source": [
    "# We use scipy.optimize.root to find a solution to the power flow equations\n",
    "y0 = np.array([0.0, 1.0]) # Flat start - all angles = 0, all voltages = 1 as initial guess\n",
    "sol = root(powerflow_equations, y0)\n",
    "\n",
    "sol # Notice sol.fun is very small, and sol.x is our solution for theta2 and V2"
   ]
  },
  {
   "cell_type": "code",
   "execution_count": 5,
   "metadata": {},
   "outputs": [
    {
     "name": "stdout",
     "output_type": "stream",
     "text": [
      "Injected active power: [ 1.516 -1.5  ] MW\n",
      "Injected reactive power: [ 0.543 -0.5  ] Mvar\n",
      "Voltages: [1.    0.982] pu\n",
      "Voltage angles: [ 0.    -1.266] degrees\n"
     ]
    }
   ],
   "source": [
    "# Inserting the solution to the voltage and angle vectors \n",
    "theta_sol_vector = theta_vector.copy() \n",
    "theta_sol_vector[1] = sol.x[0]\n",
    "V_sol_vector = V_vector.copy() \n",
    "V_sol_vector[1] = sol.x[1]\n",
    "\n",
    "# Calculate the complex power in each busbar\n",
    "V_sol_complex = V_sol_vector*(np.cos(theta_sol_vector) + 1j*np.sin(theta_sol_vector)) # Create a complex vector array \n",
    "I_inj = Y_bus_1 @ V_sol_complex\n",
    "S_inj = V_sol_complex * np.conj(I_inj) \n",
    "S_inj *= S_base\n",
    "\n",
    "print(f\"Injected active power: {S_inj.real.round(3)} MW\")\n",
    "print(f\"Injected reactive power: {S_inj.imag.round(3)} Mvar\")\n",
    "print(f\"Voltages: {V_sol_vector.round(3)} pu\")\n",
    "print(f\"Voltage angles: {(theta_sol_vector*180/np.pi).round(3)} degrees\")"
   ]
  },
  {
   "cell_type": "markdown",
   "metadata": {},
   "source": [
    "# Using PyPSA (Python library)\n",
    "PyPSA is a python library that can execute power flow calculatons on power systems. It has a friendly user interface and is well documented on their hompepage [PyPSA Homepage](https://pypsa.readthedocs.io/en/latest/introduction.html). Following is a showcase of how the calculations above may be done in PyPSA. "
   ]
  },
  {
   "cell_type": "code",
   "execution_count": 6,
   "metadata": {},
   "outputs": [],
   "source": [
    "import pypsa\n",
    "import warnings\n",
    "warnings.simplefilter(action='ignore', category=FutureWarning) # Adding this to remove spamming of \"FutureWarning\" from PyPSA\n",
    "\n",
    "network = pypsa.Network()\n",
    "\n",
    "network.add(\"Bus\", \"Bus 1\", v_nom=22.0)\n",
    "network.add(\"Bus\", \"Bus 2\", v_nom=22.0)\n",
    "\n",
    "network.add(\"Line\", \"Line 1\", bus0=\"Bus 1\", bus1=\"Bus 2\", r=3.0, x=8.0)\n",
    "network.add(\"Generator\", \"G1\", bus=\"Bus 1\", control=\"Slack\")\n",
    "network.add(\"Load\", \"Load 1\", bus=\"Bus 2\", p_set=1.5, q_set=0.5)"
   ]
  },
  {
   "cell_type": "code",
   "execution_count": 7,
   "metadata": {},
   "outputs": [
    {
     "name": "stderr",
     "output_type": "stream",
     "text": [
      "INFO:pypsa.pf:Performing non-linear load-flow on AC sub-network SubNetwork 0 for snapshots Index(['now'], dtype='object', name='snapshot')\n",
      "INFO:pypsa.pf:Newton-Raphson solved in 3 iterations with error of 0.000000 in 0.011781 seconds\n"
     ]
    },
    {
     "data": {
      "text/plain": [
       "{'n_iter': SubNetwork  0\n",
       " snapshot     \n",
       " now         3,\n",
       " 'error': SubNetwork             0\n",
       " snapshot                \n",
       " now         9.431345e-12,\n",
       " 'converged': SubNetwork     0\n",
       " snapshot        \n",
       " now         True}"
      ]
     },
     "execution_count": 7,
     "metadata": {},
     "output_type": "execute_result"
    }
   ],
   "source": [
    "info = network.pf()\n",
    "info"
   ]
  },
  {
   "cell_type": "code",
   "execution_count": 8,
   "metadata": {},
   "outputs": [
    {
     "name": "stdout",
     "output_type": "stream",
     "text": [
      "Injected active power: [ 1.516 -1.5  ] MW\n",
      "Injected reactive power: [ 0.543 -0.5  ] Mvar\n",
      "Voltages: [1.    0.982] pu\n",
      "Voltage angles: [ 0.    -1.266] degrees\n"
     ]
    }
   ],
   "source": [
    "P_sol = network.buses_t.p.values[0]\n",
    "Q_sol = network.buses_t.q.values[0]\n",
    "V_sol = network.buses_t.v_mag_pu.values[0]\n",
    "th_sol = network.buses_t.v_ang.values[0]\n",
    "\n",
    "print(f\"Injected active power: {P_sol.round(3)} MW\")\n",
    "print(f\"Injected reactive power: {Q_sol.round(3)} Mvar\")\n",
    "print(f\"Voltages: {V_sol.round(3)} pu\")\n",
    "print(f\"Voltage angles: {(th_sol*180/np.pi).round(3)} degrees\")"
   ]
  },
  {
   "cell_type": "markdown",
   "metadata": {},
   "source": [
    "#### End of Notebook\n",
    "---"
   ]
  }
 ],
 "metadata": {
  "kernelspec": {
   "display_name": "Python 3",
   "language": "python",
   "name": "python3"
  },
  "language_info": {
   "codemirror_mode": {
    "name": "ipython",
    "version": 3
   },
   "file_extension": ".py",
   "mimetype": "text/x-python",
   "name": "python",
   "nbconvert_exporter": "python",
   "pygments_lexer": "ipython3",
   "version": "3.8.10"
  },
  "orig_nbformat": 4
 },
 "nbformat": 4,
 "nbformat_minor": 2
}
